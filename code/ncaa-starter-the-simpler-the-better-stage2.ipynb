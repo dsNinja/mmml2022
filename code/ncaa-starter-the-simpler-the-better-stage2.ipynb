{
 "cells": [
  {
   "cell_type": "markdown",
   "metadata": {
    "papermill": {
     "duration": 0.051666,
     "end_time": "2021-02-26T14:15:26.635925",
     "exception": false,
     "start_time": "2021-02-26T14:15:26.584259",
     "status": "completed"
    },
    "tags": []
   },
   "source": [
    "# NCAA Starter - The simpler the better \n",
    "\n",
    "In this notebook I present a quite simple approach to the problem.\n",
    "\n",
    "It is adapted from what I intended to submit last year. \n",
    "The main idea is that the simpler the model, the more robust. Complicated models don't necessarily outperform simpler ones on prediction competitons.\n",
    "Hence I only use 12 simple features (in fact I could reduce this number down to 4) with a logistic regression.\n",
    "\n",
    "\n",
    "This work (mostly) adapts to the women competition by replacing the `M` by a `W`. Only the ratings are missing.\n",
    "Just uncomment/comment the corresponding lines, or browse through the notebook versions !\n",
    "\n",
    "- Version 9 : NCAAW\n",
    "- Version 7 : NCAAM"
   ]
  },
  {
   "cell_type": "code",
   "execution_count": 1,
   "metadata": {
    "_cell_guid": "b1076dfc-b9ad-4769-8c92-a6c4dae69d19",
    "_uuid": "8f2839f25d086af736a60e9eeb907d3b93b6e0e5",
    "execution": {
     "iopub.execute_input": "2021-02-26T14:15:26.736320Z",
     "iopub.status.busy": "2021-02-26T14:15:26.735314Z",
     "iopub.status.idle": "2021-02-26T14:15:28.095276Z",
     "shell.execute_reply": "2021-02-26T14:15:28.095843Z"
    },
    "papermill": {
     "duration": 1.41242,
     "end_time": "2021-02-26T14:15:28.096183",
     "exception": false,
     "start_time": "2021-02-26T14:15:26.683763",
     "status": "completed"
    },
    "tags": []
   },
   "outputs": [],
   "source": [
    "import os\n",
    "import re\n",
    "import sklearn\n",
    "import numpy as np \n",
    "import pandas as pd\n",
    "import seaborn as sns\n",
    "import matplotlib.pyplot as plt\n",
    "\n",
    "from collections import Counter\n",
    "from sklearn.metrics import *\n",
    "from sklearn.linear_model import *\n",
    "from sklearn.model_selection import *\n",
    "\n",
    "pd.set_option('display.max_columns', None)"
   ]
  },
  {
   "cell_type": "code",
   "execution_count": 2,
   "metadata": {
    "execution": {
     "iopub.execute_input": "2021-02-26T14:15:28.198582Z",
     "iopub.status.busy": "2021-02-26T14:15:28.197487Z",
     "iopub.status.idle": "2021-02-26T14:15:28.207376Z",
     "shell.execute_reply": "2021-02-26T14:15:28.206692Z"
    },
    "papermill": {
     "duration": 0.062422,
     "end_time": "2021-02-26T14:15:28.207536",
     "exception": false,
     "start_time": "2021-02-26T14:15:28.145114",
     "status": "completed"
    },
    "tags": []
   },
   "outputs": [
    {
     "name": "stdout",
     "output_type": "stream",
     "text": [
      "Cities.csv\n",
      "Conferences.csv\n",
      "MConferenceTourneyGames.csv\n",
      "MGameCities.csv\n",
      "MMasseyOrdinals_thruDay128.csv\n",
      "MNCAATourneyCompactResults.csv\n",
      "MNCAATourneyDetailedResults.csv\n",
      "MNCAATourneySeedRoundSlots.csv\n",
      "MNCAATourneySeeds.csv\n",
      "MNCAATourneySlots.csv\n",
      "MRegularSeasonCompactResults.csv\n",
      "MRegularSeasonDetailedResults.csv\n",
      "MSampleSubmissionStage2.csv\n",
      "MSeasons.csv\n",
      "MSecondaryTourneyCompactResults.csv\n",
      "MSecondaryTourneyTeams.csv\n",
      "MTeamCoaches.csv\n",
      "MTeamConferences.csv\n",
      "MTeams.csv\n",
      "MTeamSpellings.csv\n"
     ]
    }
   ],
   "source": [
    "# DATA_PATH = '../input/ncaam-march-mania-2021/'\n",
    "DATA_PATH = '../input/mens-march-mania-2022\\MDataFiles_Stage2/'\n",
    "DATA_PATH_M = DATA_PATH\n",
    "\n",
    "for filename in os.listdir(DATA_PATH):\n",
    "    print(filename)"
   ]
  },
  {
   "cell_type": "markdown",
   "metadata": {
    "papermill": {
     "duration": 0.047461,
     "end_time": "2021-02-26T14:15:28.304320",
     "exception": false,
     "start_time": "2021-02-26T14:15:28.256859",
     "status": "completed"
    },
    "tags": []
   },
   "source": [
    "# Data preparation"
   ]
  },
  {
   "cell_type": "markdown",
   "metadata": {
    "papermill": {
     "duration": 0.047606,
     "end_time": "2021-02-26T14:15:28.399719",
     "exception": false,
     "start_time": "2021-02-26T14:15:28.352113",
     "status": "completed"
    },
    "tags": []
   },
   "source": [
    "## Seeds\n",
    "> This file identifies the seeds for all teams in each NCAA® tournament, for all seasons of historical data. Thus, there are between 64-68 rows for each year, depending on whether there were any play-in games and how many there were. In recent years the structure has settled at 68 total teams, with four \"play-in\" games leading to the final field of 64 teams entering Round 1 on Thursday of the first week (by definition, that is DayNum=136 each season). We will not know the seeds of the respective tournament teams, or even exactly which 68 teams it will be, until Selection Sunday on March 15, 2020 (DayNum=132).\n",
    "\n",
    "> The seed is a 3/4-character :\n",
    "- First character : Region (W, X, Y, or Z)\n",
    "- Next two digits : Seed within the region (01 to 16)\n",
    "- Last character (optional): Distinguishes teams between play-ins ( a or b)"
   ]
  },
  {
   "cell_type": "code",
   "execution_count": 3,
   "metadata": {
    "execution": {
     "iopub.execute_input": "2021-02-26T14:15:28.499499Z",
     "iopub.status.busy": "2021-02-26T14:15:28.498841Z",
     "iopub.status.idle": "2021-02-26T14:15:28.546396Z",
     "shell.execute_reply": "2021-02-26T14:15:28.547128Z"
    },
    "papermill": {
     "duration": 0.099806,
     "end_time": "2021-02-26T14:15:28.547360",
     "exception": false,
     "start_time": "2021-02-26T14:15:28.447554",
     "status": "completed"
    },
    "tags": []
   },
   "outputs": [
    {
     "data": {
      "text/html": [
       "<div>\n",
       "<style scoped>\n",
       "    .dataframe tbody tr th:only-of-type {\n",
       "        vertical-align: middle;\n",
       "    }\n",
       "\n",
       "    .dataframe tbody tr th {\n",
       "        vertical-align: top;\n",
       "    }\n",
       "\n",
       "    .dataframe thead th {\n",
       "        text-align: right;\n",
       "    }\n",
       "</style>\n",
       "<table border=\"1\" class=\"dataframe\">\n",
       "  <thead>\n",
       "    <tr style=\"text-align: right;\">\n",
       "      <th></th>\n",
       "      <th>Season</th>\n",
       "      <th>Seed</th>\n",
       "      <th>TeamID</th>\n",
       "    </tr>\n",
       "  </thead>\n",
       "  <tbody>\n",
       "    <tr>\n",
       "      <th>0</th>\n",
       "      <td>1985</td>\n",
       "      <td>W01</td>\n",
       "      <td>1207</td>\n",
       "    </tr>\n",
       "    <tr>\n",
       "      <th>1</th>\n",
       "      <td>1985</td>\n",
       "      <td>W02</td>\n",
       "      <td>1210</td>\n",
       "    </tr>\n",
       "    <tr>\n",
       "      <th>2</th>\n",
       "      <td>1985</td>\n",
       "      <td>W03</td>\n",
       "      <td>1228</td>\n",
       "    </tr>\n",
       "    <tr>\n",
       "      <th>3</th>\n",
       "      <td>1985</td>\n",
       "      <td>W04</td>\n",
       "      <td>1260</td>\n",
       "    </tr>\n",
       "    <tr>\n",
       "      <th>4</th>\n",
       "      <td>1985</td>\n",
       "      <td>W05</td>\n",
       "      <td>1374</td>\n",
       "    </tr>\n",
       "  </tbody>\n",
       "</table>\n",
       "</div>"
      ],
      "text/plain": [
       "   Season Seed  TeamID\n",
       "0    1985  W01    1207\n",
       "1    1985  W02    1210\n",
       "2    1985  W03    1228\n",
       "3    1985  W04    1260\n",
       "4    1985  W05    1374"
      ]
     },
     "execution_count": 3,
     "metadata": {},
     "output_type": "execute_result"
    }
   ],
   "source": [
    "# df_seeds = pd.read_csv(DATA_PATH + \"MNCAATourneySeeds.csv\")\n",
    "df_seeds = pd.read_csv(DATA_PATH + \"MNCAATourneySeeds.csv\")\n",
    "df_seeds.head()"
   ]
  },
  {
   "cell_type": "markdown",
   "metadata": {
    "papermill": {
     "duration": 0.047995,
     "end_time": "2021-02-26T14:15:28.645962",
     "exception": false,
     "start_time": "2021-02-26T14:15:28.597967",
     "status": "completed"
    },
    "tags": []
   },
   "source": [
    "## Season results\n",
    "> This file identifies the game-by-game results for many seasons of historical data, starting with the 1985 season (the first year the NCAA® had a 64-team tournament). For each season, the file includes all games played from DayNum 0 through 132. It is important to realize that the \"Regular Season\" games are simply defined to be all games played on DayNum=132 or earlier (DayNum=132 is Selection Sunday, and there are always a few conference tournament finals actually played early in the day on Selection Sunday itself). Thus a game played on or before Selection Sunday will show up here whether it was a pre-season tournament, a non-conference game, a regular conference game, a conference tournament game, or whatever."
   ]
  },
  {
   "cell_type": "code",
   "execution_count": 4,
   "metadata": {
    "execution": {
     "iopub.execute_input": "2021-02-26T14:15:28.750783Z",
     "iopub.status.busy": "2021-02-26T14:15:28.749494Z",
     "iopub.status.idle": "2021-02-26T14:15:28.891832Z",
     "shell.execute_reply": "2021-02-26T14:15:28.890626Z"
    },
    "papermill": {
     "duration": 0.197763,
     "end_time": "2021-02-26T14:15:28.892056",
     "exception": false,
     "start_time": "2021-02-26T14:15:28.694293",
     "status": "completed"
    },
    "tags": []
   },
   "outputs": [],
   "source": [
    "# df_season_results = pd.read_csv(DATA_PATH + \"MRegularSeasonCompactResults.csv\")\n",
    "df_season_results = pd.read_csv(DATA_PATH + \"MRegularSeasonCompactResults.csv\")\n",
    "df_season_results.drop(['NumOT', 'WLoc'], axis=1, inplace=True)"
   ]
  },
  {
   "cell_type": "code",
   "execution_count": 5,
   "metadata": {
    "execution": {
     "iopub.execute_input": "2021-02-26T14:15:28.996297Z",
     "iopub.status.busy": "2021-02-26T14:15:28.995655Z",
     "iopub.status.idle": "2021-02-26T14:15:29.018372Z",
     "shell.execute_reply": "2021-02-26T14:15:29.017816Z"
    },
    "papermill": {
     "duration": 0.077101,
     "end_time": "2021-02-26T14:15:29.018537",
     "exception": false,
     "start_time": "2021-02-26T14:15:28.941436",
     "status": "completed"
    },
    "tags": []
   },
   "outputs": [],
   "source": [
    "df_season_results['ScoreGap'] = df_season_results['WScore'] - df_season_results['LScore']"
   ]
  },
  {
   "cell_type": "code",
   "execution_count": 6,
   "metadata": {
    "execution": {
     "iopub.execute_input": "2021-02-26T14:15:29.127839Z",
     "iopub.status.busy": "2021-02-26T14:15:29.127125Z",
     "iopub.status.idle": "2021-02-26T14:15:29.130410Z",
     "shell.execute_reply": "2021-02-26T14:15:29.130869Z"
    },
    "papermill": {
     "duration": 0.063161,
     "end_time": "2021-02-26T14:15:29.131052",
     "exception": false,
     "start_time": "2021-02-26T14:15:29.067891",
     "status": "completed"
    },
    "tags": []
   },
   "outputs": [
    {
     "data": {
      "text/html": [
       "<div>\n",
       "<style scoped>\n",
       "    .dataframe tbody tr th:only-of-type {\n",
       "        vertical-align: middle;\n",
       "    }\n",
       "\n",
       "    .dataframe tbody tr th {\n",
       "        vertical-align: top;\n",
       "    }\n",
       "\n",
       "    .dataframe thead th {\n",
       "        text-align: right;\n",
       "    }\n",
       "</style>\n",
       "<table border=\"1\" class=\"dataframe\">\n",
       "  <thead>\n",
       "    <tr style=\"text-align: right;\">\n",
       "      <th></th>\n",
       "      <th>Season</th>\n",
       "      <th>DayNum</th>\n",
       "      <th>WTeamID</th>\n",
       "      <th>WScore</th>\n",
       "      <th>LTeamID</th>\n",
       "      <th>LScore</th>\n",
       "      <th>ScoreGap</th>\n",
       "    </tr>\n",
       "  </thead>\n",
       "  <tbody>\n",
       "    <tr>\n",
       "      <th>0</th>\n",
       "      <td>1985</td>\n",
       "      <td>20</td>\n",
       "      <td>1228</td>\n",
       "      <td>81</td>\n",
       "      <td>1328</td>\n",
       "      <td>64</td>\n",
       "      <td>17</td>\n",
       "    </tr>\n",
       "    <tr>\n",
       "      <th>1</th>\n",
       "      <td>1985</td>\n",
       "      <td>25</td>\n",
       "      <td>1106</td>\n",
       "      <td>77</td>\n",
       "      <td>1354</td>\n",
       "      <td>70</td>\n",
       "      <td>7</td>\n",
       "    </tr>\n",
       "    <tr>\n",
       "      <th>2</th>\n",
       "      <td>1985</td>\n",
       "      <td>25</td>\n",
       "      <td>1112</td>\n",
       "      <td>63</td>\n",
       "      <td>1223</td>\n",
       "      <td>56</td>\n",
       "      <td>7</td>\n",
       "    </tr>\n",
       "    <tr>\n",
       "      <th>3</th>\n",
       "      <td>1985</td>\n",
       "      <td>25</td>\n",
       "      <td>1165</td>\n",
       "      <td>70</td>\n",
       "      <td>1432</td>\n",
       "      <td>54</td>\n",
       "      <td>16</td>\n",
       "    </tr>\n",
       "    <tr>\n",
       "      <th>4</th>\n",
       "      <td>1985</td>\n",
       "      <td>25</td>\n",
       "      <td>1192</td>\n",
       "      <td>86</td>\n",
       "      <td>1447</td>\n",
       "      <td>74</td>\n",
       "      <td>12</td>\n",
       "    </tr>\n",
       "  </tbody>\n",
       "</table>\n",
       "</div>"
      ],
      "text/plain": [
       "   Season  DayNum  WTeamID  WScore  LTeamID  LScore  ScoreGap\n",
       "0    1985      20     1228      81     1328      64        17\n",
       "1    1985      25     1106      77     1354      70         7\n",
       "2    1985      25     1112      63     1223      56         7\n",
       "3    1985      25     1165      70     1432      54        16\n",
       "4    1985      25     1192      86     1447      74        12"
      ]
     },
     "execution_count": 6,
     "metadata": {},
     "output_type": "execute_result"
    }
   ],
   "source": [
    "df_season_results.head()"
   ]
  },
  {
   "cell_type": "markdown",
   "metadata": {
    "papermill": {
     "duration": 0.050567,
     "end_time": "2021-02-26T14:15:29.232859",
     "exception": false,
     "start_time": "2021-02-26T14:15:29.182292",
     "status": "completed"
    },
    "tags": []
   },
   "source": [
    "### Features \n",
    "For each team at each season, I compute : \n",
    "- Number of wins\n",
    "- Number of losses\n",
    "- Average score gap of wins\n",
    "- Average score gap of losses\n",
    "\n",
    "And use the following features : \n",
    "- Win Ratio\n",
    "- Average score gap"
   ]
  },
  {
   "cell_type": "code",
   "execution_count": 7,
   "metadata": {
    "execution": {
     "iopub.execute_input": "2021-02-26T14:15:29.337395Z",
     "iopub.status.busy": "2021-02-26T14:15:29.336299Z",
     "iopub.status.idle": "2021-02-26T14:15:29.371251Z",
     "shell.execute_reply": "2021-02-26T14:15:29.371751Z"
    },
    "papermill": {
     "duration": 0.089143,
     "end_time": "2021-02-26T14:15:29.371950",
     "exception": false,
     "start_time": "2021-02-26T14:15:29.282807",
     "status": "completed"
    },
    "tags": []
   },
   "outputs": [],
   "source": [
    "num_win = df_season_results.groupby(['Season', 'WTeamID']).count()\n",
    "num_win = num_win.reset_index()[['Season', 'WTeamID', 'DayNum']].rename(columns={\"DayNum\": \"NumWins\", \"WTeamID\": \"TeamID\"})"
   ]
  },
  {
   "cell_type": "code",
   "execution_count": 8,
   "metadata": {
    "execution": {
     "iopub.execute_input": "2021-02-26T14:15:29.475785Z",
     "iopub.status.busy": "2021-02-26T14:15:29.474703Z",
     "iopub.status.idle": "2021-02-26T14:15:29.493482Z",
     "shell.execute_reply": "2021-02-26T14:15:29.493969Z"
    },
    "papermill": {
     "duration": 0.072449,
     "end_time": "2021-02-26T14:15:29.494157",
     "exception": false,
     "start_time": "2021-02-26T14:15:29.421708",
     "status": "completed"
    },
    "tags": []
   },
   "outputs": [],
   "source": [
    "num_loss = df_season_results.groupby(['Season', 'LTeamID']).count()\n",
    "num_loss = num_loss.reset_index()[['Season', 'LTeamID', 'DayNum']].rename(columns={\"DayNum\": \"NumLosses\", \"LTeamID\": \"TeamID\"})"
   ]
  },
  {
   "cell_type": "code",
   "execution_count": 9,
   "metadata": {
    "execution": {
     "iopub.execute_input": "2021-02-26T14:15:29.599478Z",
     "iopub.status.busy": "2021-02-26T14:15:29.598450Z",
     "iopub.status.idle": "2021-02-26T14:15:29.624091Z",
     "shell.execute_reply": "2021-02-26T14:15:29.624578Z"
    },
    "papermill": {
     "duration": 0.079363,
     "end_time": "2021-02-26T14:15:29.624767",
     "exception": false,
     "start_time": "2021-02-26T14:15:29.545404",
     "status": "completed"
    },
    "tags": []
   },
   "outputs": [],
   "source": [
    "gap_win = df_season_results.groupby(['Season', 'WTeamID']).mean().reset_index()\n",
    "gap_win = gap_win[['Season', 'WTeamID', 'ScoreGap']].rename(columns={\"ScoreGap\": \"GapWins\", \"WTeamID\": \"TeamID\"})"
   ]
  },
  {
   "cell_type": "code",
   "execution_count": 10,
   "metadata": {
    "execution": {
     "iopub.execute_input": "2021-02-26T14:15:29.728501Z",
     "iopub.status.busy": "2021-02-26T14:15:29.727415Z",
     "iopub.status.idle": "2021-02-26T14:15:29.749611Z",
     "shell.execute_reply": "2021-02-26T14:15:29.750154Z"
    },
    "papermill": {
     "duration": 0.075963,
     "end_time": "2021-02-26T14:15:29.750362",
     "exception": false,
     "start_time": "2021-02-26T14:15:29.674399",
     "status": "completed"
    },
    "tags": []
   },
   "outputs": [],
   "source": [
    "gap_loss = df_season_results.groupby(['Season', 'LTeamID']).mean().reset_index()\n",
    "gap_loss = gap_loss[['Season', 'LTeamID', 'ScoreGap']].rename(columns={\"ScoreGap\": \"GapLosses\", \"LTeamID\": \"TeamID\"})"
   ]
  },
  {
   "cell_type": "markdown",
   "metadata": {
    "papermill": {
     "duration": 0.051418,
     "end_time": "2021-02-26T14:15:29.853685",
     "exception": false,
     "start_time": "2021-02-26T14:15:29.802267",
     "status": "completed"
    },
    "tags": []
   },
   "source": [
    "Merge"
   ]
  },
  {
   "cell_type": "code",
   "execution_count": 11,
   "metadata": {
    "execution": {
     "iopub.execute_input": "2021-02-26T14:15:29.964511Z",
     "iopub.status.busy": "2021-02-26T14:15:29.963783Z",
     "iopub.status.idle": "2021-02-26T14:15:29.991390Z",
     "shell.execute_reply": "2021-02-26T14:15:29.990602Z"
    },
    "papermill": {
     "duration": 0.086627,
     "end_time": "2021-02-26T14:15:29.991549",
     "exception": false,
     "start_time": "2021-02-26T14:15:29.904922",
     "status": "completed"
    },
    "tags": []
   },
   "outputs": [],
   "source": [
    "df_features_season_w = df_season_results.groupby(['Season', 'WTeamID']).count().reset_index()[['Season', 'WTeamID']].rename(columns={\"WTeamID\": \"TeamID\"})\n",
    "df_features_season_l = df_season_results.groupby(['Season', 'LTeamID']).count().reset_index()[['Season', 'LTeamID']].rename(columns={\"LTeamID\": \"TeamID\"})"
   ]
  },
  {
   "cell_type": "code",
   "execution_count": 12,
   "metadata": {
    "execution": {
     "iopub.execute_input": "2021-02-26T14:15:30.097920Z",
     "iopub.status.busy": "2021-02-26T14:15:30.097058Z",
     "iopub.status.idle": "2021-02-26T14:15:30.108224Z",
     "shell.execute_reply": "2021-02-26T14:15:30.107606Z"
    },
    "papermill": {
     "duration": 0.066783,
     "end_time": "2021-02-26T14:15:30.108385",
     "exception": false,
     "start_time": "2021-02-26T14:15:30.041602",
     "status": "completed"
    },
    "tags": []
   },
   "outputs": [
    {
     "name": "stderr",
     "output_type": "stream",
     "text": [
      "C:\\Users\\yizha\\AppData\\Local\\Temp\\ipykernel_10944\\108246023.py:1: FutureWarning: In a future version of pandas all arguments of concat except for the argument 'objs' will be keyword-only\n",
      "  df_features_season = pd.concat([df_features_season_w, df_features_season_l], 0).drop_duplicates().sort_values(['Season', 'TeamID']).reset_index(drop=True)\n"
     ]
    }
   ],
   "source": [
    "df_features_season = pd.concat([df_features_season_w, df_features_season_l], 0).drop_duplicates().sort_values(['Season', 'TeamID']).reset_index(drop=True)"
   ]
  },
  {
   "cell_type": "code",
   "execution_count": 13,
   "metadata": {
    "execution": {
     "iopub.execute_input": "2021-02-26T14:15:30.214241Z",
     "iopub.status.busy": "2021-02-26T14:15:30.213567Z",
     "iopub.status.idle": "2021-02-26T14:15:30.242549Z",
     "shell.execute_reply": "2021-02-26T14:15:30.243143Z"
    },
    "papermill": {
     "duration": 0.08428,
     "end_time": "2021-02-26T14:15:30.243351",
     "exception": false,
     "start_time": "2021-02-26T14:15:30.159071",
     "status": "completed"
    },
    "tags": []
   },
   "outputs": [],
   "source": [
    "df_features_season = df_features_season.merge(num_win, on=['Season', 'TeamID'], how='left')\n",
    "df_features_season = df_features_season.merge(num_loss, on=['Season', 'TeamID'], how='left')\n",
    "df_features_season = df_features_season.merge(gap_win, on=['Season', 'TeamID'], how='left')\n",
    "df_features_season = df_features_season.merge(gap_loss, on=['Season', 'TeamID'], how='left')"
   ]
  },
  {
   "cell_type": "code",
   "execution_count": 14,
   "metadata": {
    "execution": {
     "iopub.execute_input": "2021-02-26T14:15:30.352993Z",
     "iopub.status.busy": "2021-02-26T14:15:30.352208Z",
     "iopub.status.idle": "2021-02-26T14:15:30.357384Z",
     "shell.execute_reply": "2021-02-26T14:15:30.357942Z"
    },
    "papermill": {
     "duration": 0.062939,
     "end_time": "2021-02-26T14:15:30.358138",
     "exception": false,
     "start_time": "2021-02-26T14:15:30.295199",
     "status": "completed"
    },
    "tags": []
   },
   "outputs": [],
   "source": [
    "df_features_season.fillna(0, inplace=True)  "
   ]
  },
  {
   "cell_type": "markdown",
   "metadata": {
    "papermill": {
     "duration": 0.051524,
     "end_time": "2021-02-26T14:15:30.461655",
     "exception": false,
     "start_time": "2021-02-26T14:15:30.410131",
     "status": "completed"
    },
    "tags": []
   },
   "source": [
    "Compute features"
   ]
  },
  {
   "cell_type": "code",
   "execution_count": 15,
   "metadata": {
    "execution": {
     "iopub.execute_input": "2021-02-26T14:15:30.578418Z",
     "iopub.status.busy": "2021-02-26T14:15:30.577557Z",
     "iopub.status.idle": "2021-02-26T14:15:30.587206Z",
     "shell.execute_reply": "2021-02-26T14:15:30.586629Z"
    },
    "papermill": {
     "duration": 0.074083,
     "end_time": "2021-02-26T14:15:30.587391",
     "exception": false,
     "start_time": "2021-02-26T14:15:30.513308",
     "status": "completed"
    },
    "tags": []
   },
   "outputs": [],
   "source": [
    "df_features_season['WinRatio'] = df_features_season['NumWins'] / (df_features_season['NumWins'] + df_features_season['NumLosses'])\n",
    "df_features_season['GapAvg'] = (\n",
    "    (df_features_season['NumWins'] * df_features_season['GapWins'] - \n",
    "    df_features_season['NumLosses'] * df_features_season['GapLosses'])\n",
    "    / (df_features_season['NumWins'] + df_features_season['NumLosses'])\n",
    ")"
   ]
  },
  {
   "cell_type": "code",
   "execution_count": 16,
   "metadata": {
    "execution": {
     "iopub.execute_input": "2021-02-26T14:15:30.718268Z",
     "iopub.status.busy": "2021-02-26T14:15:30.717259Z",
     "iopub.status.idle": "2021-02-26T14:15:30.724949Z",
     "shell.execute_reply": "2021-02-26T14:15:30.724358Z"
    },
    "papermill": {
     "duration": 0.075,
     "end_time": "2021-02-26T14:15:30.725093",
     "exception": false,
     "start_time": "2021-02-26T14:15:30.650093",
     "status": "completed"
    },
    "tags": []
   },
   "outputs": [],
   "source": [
    "df_features_season.drop(['NumWins', 'NumLosses', 'GapWins', 'GapLosses'], axis=1, inplace=True)"
   ]
  },
  {
   "cell_type": "markdown",
   "metadata": {
    "papermill": {
     "duration": 0.050823,
     "end_time": "2021-02-26T14:15:30.829278",
     "exception": false,
     "start_time": "2021-02-26T14:15:30.778455",
     "status": "completed"
    },
    "tags": []
   },
   "source": [
    "## Tourney results\n",
    "\n",
    "> This file identifies the game-by-game NCAA® tournament results for all seasons of historical data. The data is formatted exactly like the MRegularSeasonCompactResults data. All games will show up as neutral site (so WLoc is always N). Note that this tournament game data also includes the play-in games (which always occurred on day 134/135) for those years that had play-in games. Thus each season you will see between 63 and 67 games listed, depending on how many play-in games there were."
   ]
  },
  {
   "cell_type": "code",
   "execution_count": 17,
   "metadata": {
    "execution": {
     "iopub.execute_input": "2021-02-26T14:15:30.939246Z",
     "iopub.status.busy": "2021-02-26T14:15:30.938440Z",
     "iopub.status.idle": "2021-02-26T14:15:30.952926Z",
     "shell.execute_reply": "2021-02-26T14:15:30.952196Z"
    },
    "papermill": {
     "duration": 0.071769,
     "end_time": "2021-02-26T14:15:30.953075",
     "exception": false,
     "start_time": "2021-02-26T14:15:30.881306",
     "status": "completed"
    },
    "tags": []
   },
   "outputs": [],
   "source": [
    "# df_tourney_results = pd.read_csv(DATA_PATH + \"MNCAATourneyCompactResults.csv\")\n",
    "df_tourney_results = pd.read_csv(DATA_PATH + \"MNCAATourneyCompactResults.csv\")\n",
    "df_tourney_results.drop(['NumOT', 'WLoc'], axis=1, inplace=True)"
   ]
  },
  {
   "cell_type": "markdown",
   "metadata": {
    "papermill": {
     "duration": 0.050397,
     "end_time": "2021-02-26T14:15:31.056961",
     "exception": false,
     "start_time": "2021-02-26T14:15:31.006564",
     "status": "completed"
    },
    "tags": []
   },
   "source": [
    "The `DayNum` features can be improved by replacing it by the corresponding round."
   ]
  },
  {
   "cell_type": "code",
   "execution_count": 18,
   "metadata": {
    "execution": {
     "iopub.execute_input": "2021-02-26T14:15:31.166300Z",
     "iopub.status.busy": "2021-02-26T14:15:31.165514Z",
     "iopub.status.idle": "2021-02-26T14:15:31.168739Z",
     "shell.execute_reply": "2021-02-26T14:15:31.168102Z"
    },
    "papermill": {
     "duration": 0.060943,
     "end_time": "2021-02-26T14:15:31.168898",
     "exception": false,
     "start_time": "2021-02-26T14:15:31.107955",
     "status": "completed"
    },
    "tags": []
   },
   "outputs": [],
   "source": [
    "def get_round(day):\n",
    "#     round_dic = {134: 0, 135: 0, 136: 1, 137: 1, 138: 2, 139: 2, 143: 3, 144: 3, 145: 4, 146: 4, 152: 5, 154: 6}\n",
    "    round_dic = {137: 0, 138: 0, 139: 1, 140: 1, 141: 2, 144: 3, 145: 3, 146: 4, 147: 4, 148: 4, 151:5, 153: 5, 155: 6} # probably wrong but I don't use it anyways\n",
    "    try:\n",
    "        return round_dic[day]\n",
    "    except:\n",
    "        print(f'Unknow day : {day}')\n",
    "        return 0"
   ]
  },
  {
   "cell_type": "code",
   "execution_count": 19,
   "metadata": {
    "execution": {
     "iopub.execute_input": "2021-02-26T14:15:31.281533Z",
     "iopub.status.busy": "2021-02-26T14:15:31.280788Z",
     "iopub.status.idle": "2021-02-26T14:15:31.283563Z",
     "shell.execute_reply": "2021-02-26T14:15:31.284025Z"
    },
    "papermill": {
     "duration": 0.064284,
     "end_time": "2021-02-26T14:15:31.284209",
     "exception": false,
     "start_time": "2021-02-26T14:15:31.219925",
     "status": "completed"
    },
    "tags": []
   },
   "outputs": [
    {
     "name": "stdout",
     "output_type": "stream",
     "text": [
      "Unknow day : 136\n",
      "Unknow day : 136\n",
      "Unknow day : 136\n",
      "Unknow day : 136\n",
      "Unknow day : 136\n",
      "Unknow day : 136\n",
      "Unknow day : 136\n",
      "Unknow day : 136\n",
      "Unknow day : 136\n",
      "Unknow day : 136\n",
      "Unknow day : 136\n",
      "Unknow day : 136\n",
      "Unknow day : 136\n",
      "Unknow day : 136\n",
      "Unknow day : 136\n",
      "Unknow day : 136\n",
      "Unknow day : 143\n",
      "Unknow day : 143\n",
      "Unknow day : 143\n",
      "Unknow day : 143\n",
      "Unknow day : 152\n",
      "Unknow day : 152\n",
      "Unknow day : 154\n",
      "Unknow day : 136\n",
      "Unknow day : 136\n",
      "Unknow day : 136\n",
      "Unknow day : 136\n",
      "Unknow day : 136\n",
      "Unknow day : 136\n",
      "Unknow day : 136\n",
      "Unknow day : 136\n",
      "Unknow day : 136\n",
      "Unknow day : 136\n",
      "Unknow day : 136\n",
      "Unknow day : 136\n",
      "Unknow day : 136\n",
      "Unknow day : 136\n",
      "Unknow day : 136\n",
      "Unknow day : 136\n",
      "Unknow day : 143\n",
      "Unknow day : 143\n",
      "Unknow day : 143\n",
      "Unknow day : 143\n",
      "Unknow day : 152\n",
      "Unknow day : 152\n",
      "Unknow day : 154\n",
      "Unknow day : 136\n",
      "Unknow day : 136\n",
      "Unknow day : 136\n",
      "Unknow day : 136\n",
      "Unknow day : 136\n",
      "Unknow day : 136\n",
      "Unknow day : 136\n",
      "Unknow day : 136\n",
      "Unknow day : 136\n",
      "Unknow day : 136\n",
      "Unknow day : 136\n",
      "Unknow day : 136\n",
      "Unknow day : 136\n",
      "Unknow day : 136\n",
      "Unknow day : 136\n",
      "Unknow day : 136\n",
      "Unknow day : 143\n",
      "Unknow day : 143\n",
      "Unknow day : 143\n",
      "Unknow day : 143\n",
      "Unknow day : 152\n",
      "Unknow day : 152\n",
      "Unknow day : 154\n",
      "Unknow day : 136\n",
      "Unknow day : 136\n",
      "Unknow day : 136\n",
      "Unknow day : 136\n",
      "Unknow day : 136\n",
      "Unknow day : 136\n",
      "Unknow day : 136\n",
      "Unknow day : 136\n",
      "Unknow day : 136\n",
      "Unknow day : 136\n",
      "Unknow day : 136\n",
      "Unknow day : 136\n",
      "Unknow day : 136\n",
      "Unknow day : 136\n",
      "Unknow day : 136\n",
      "Unknow day : 136\n",
      "Unknow day : 143\n",
      "Unknow day : 143\n",
      "Unknow day : 143\n",
      "Unknow day : 143\n",
      "Unknow day : 152\n",
      "Unknow day : 152\n",
      "Unknow day : 154\n",
      "Unknow day : 136\n",
      "Unknow day : 136\n",
      "Unknow day : 136\n",
      "Unknow day : 136\n",
      "Unknow day : 136\n",
      "Unknow day : 136\n",
      "Unknow day : 136\n",
      "Unknow day : 136\n",
      "Unknow day : 136\n",
      "Unknow day : 136\n",
      "Unknow day : 136\n",
      "Unknow day : 136\n",
      "Unknow day : 136\n",
      "Unknow day : 136\n",
      "Unknow day : 136\n",
      "Unknow day : 136\n",
      "Unknow day : 143\n",
      "Unknow day : 143\n",
      "Unknow day : 143\n",
      "Unknow day : 143\n",
      "Unknow day : 152\n",
      "Unknow day : 152\n",
      "Unknow day : 154\n",
      "Unknow day : 136\n",
      "Unknow day : 136\n",
      "Unknow day : 136\n",
      "Unknow day : 136\n",
      "Unknow day : 136\n",
      "Unknow day : 136\n",
      "Unknow day : 136\n",
      "Unknow day : 136\n",
      "Unknow day : 136\n",
      "Unknow day : 136\n",
      "Unknow day : 136\n",
      "Unknow day : 136\n",
      "Unknow day : 136\n",
      "Unknow day : 136\n",
      "Unknow day : 136\n",
      "Unknow day : 136\n",
      "Unknow day : 143\n",
      "Unknow day : 143\n",
      "Unknow day : 143\n",
      "Unknow day : 143\n",
      "Unknow day : 152\n",
      "Unknow day : 152\n",
      "Unknow day : 154\n",
      "Unknow day : 136\n",
      "Unknow day : 136\n",
      "Unknow day : 136\n",
      "Unknow day : 136\n",
      "Unknow day : 136\n",
      "Unknow day : 136\n",
      "Unknow day : 136\n",
      "Unknow day : 136\n",
      "Unknow day : 136\n",
      "Unknow day : 136\n",
      "Unknow day : 136\n",
      "Unknow day : 136\n",
      "Unknow day : 136\n",
      "Unknow day : 136\n",
      "Unknow day : 136\n",
      "Unknow day : 136\n",
      "Unknow day : 143\n",
      "Unknow day : 143\n",
      "Unknow day : 143\n",
      "Unknow day : 143\n",
      "Unknow day : 152\n",
      "Unknow day : 152\n",
      "Unknow day : 154\n",
      "Unknow day : 136\n",
      "Unknow day : 136\n",
      "Unknow day : 136\n",
      "Unknow day : 136\n",
      "Unknow day : 136\n",
      "Unknow day : 136\n",
      "Unknow day : 136\n",
      "Unknow day : 136\n",
      "Unknow day : 136\n",
      "Unknow day : 136\n",
      "Unknow day : 136\n",
      "Unknow day : 136\n",
      "Unknow day : 136\n",
      "Unknow day : 136\n",
      "Unknow day : 136\n",
      "Unknow day : 136\n",
      "Unknow day : 143\n",
      "Unknow day : 143\n",
      "Unknow day : 143\n",
      "Unknow day : 143\n",
      "Unknow day : 152\n",
      "Unknow day : 152\n",
      "Unknow day : 154\n",
      "Unknow day : 136\n",
      "Unknow day : 136\n",
      "Unknow day : 136\n",
      "Unknow day : 136\n",
      "Unknow day : 136\n",
      "Unknow day : 136\n",
      "Unknow day : 136\n",
      "Unknow day : 136\n",
      "Unknow day : 136\n",
      "Unknow day : 136\n",
      "Unknow day : 136\n",
      "Unknow day : 136\n",
      "Unknow day : 136\n",
      "Unknow day : 136\n",
      "Unknow day : 136\n",
      "Unknow day : 136\n",
      "Unknow day : 143\n",
      "Unknow day : 143\n",
      "Unknow day : 143\n",
      "Unknow day : 143\n",
      "Unknow day : 152\n",
      "Unknow day : 152\n",
      "Unknow day : 154\n",
      "Unknow day : 136\n",
      "Unknow day : 136\n",
      "Unknow day : 136\n",
      "Unknow day : 136\n",
      "Unknow day : 136\n",
      "Unknow day : 136\n",
      "Unknow day : 136\n",
      "Unknow day : 136\n",
      "Unknow day : 136\n",
      "Unknow day : 136\n",
      "Unknow day : 136\n",
      "Unknow day : 136\n",
      "Unknow day : 136\n",
      "Unknow day : 136\n",
      "Unknow day : 136\n",
      "Unknow day : 136\n",
      "Unknow day : 143\n",
      "Unknow day : 143\n",
      "Unknow day : 143\n",
      "Unknow day : 143\n",
      "Unknow day : 152\n",
      "Unknow day : 152\n",
      "Unknow day : 154\n",
      "Unknow day : 136\n",
      "Unknow day : 136\n",
      "Unknow day : 136\n",
      "Unknow day : 136\n",
      "Unknow day : 136\n",
      "Unknow day : 136\n",
      "Unknow day : 136\n",
      "Unknow day : 136\n",
      "Unknow day : 136\n",
      "Unknow day : 136\n",
      "Unknow day : 136\n",
      "Unknow day : 136\n",
      "Unknow day : 136\n",
      "Unknow day : 136\n",
      "Unknow day : 136\n",
      "Unknow day : 136\n",
      "Unknow day : 143\n",
      "Unknow day : 143\n",
      "Unknow day : 143\n",
      "Unknow day : 143\n",
      "Unknow day : 152\n",
      "Unknow day : 152\n",
      "Unknow day : 154\n",
      "Unknow day : 136\n",
      "Unknow day : 136\n",
      "Unknow day : 136\n",
      "Unknow day : 136\n",
      "Unknow day : 136\n",
      "Unknow day : 136\n",
      "Unknow day : 136\n",
      "Unknow day : 136\n",
      "Unknow day : 136\n",
      "Unknow day : 136\n",
      "Unknow day : 136\n",
      "Unknow day : 136\n",
      "Unknow day : 136\n",
      "Unknow day : 136\n",
      "Unknow day : 136\n",
      "Unknow day : 136\n",
      "Unknow day : 143\n",
      "Unknow day : 143\n",
      "Unknow day : 143\n",
      "Unknow day : 143\n",
      "Unknow day : 152\n",
      "Unknow day : 152\n",
      "Unknow day : 154\n",
      "Unknow day : 136\n",
      "Unknow day : 136\n",
      "Unknow day : 136\n",
      "Unknow day : 136\n",
      "Unknow day : 136\n",
      "Unknow day : 136\n",
      "Unknow day : 136\n",
      "Unknow day : 136\n",
      "Unknow day : 136\n",
      "Unknow day : 136\n",
      "Unknow day : 136\n",
      "Unknow day : 136\n",
      "Unknow day : 136\n",
      "Unknow day : 136\n",
      "Unknow day : 136\n",
      "Unknow day : 136\n",
      "Unknow day : 143\n",
      "Unknow day : 143\n",
      "Unknow day : 143\n",
      "Unknow day : 143\n",
      "Unknow day : 152\n",
      "Unknow day : 152\n",
      "Unknow day : 154\n",
      "Unknow day : 136\n",
      "Unknow day : 136\n",
      "Unknow day : 136\n",
      "Unknow day : 136\n",
      "Unknow day : 136\n",
      "Unknow day : 136\n",
      "Unknow day : 136\n",
      "Unknow day : 136\n",
      "Unknow day : 136\n",
      "Unknow day : 136\n",
      "Unknow day : 136\n",
      "Unknow day : 136\n",
      "Unknow day : 136\n",
      "Unknow day : 136\n",
      "Unknow day : 136\n",
      "Unknow day : 136\n",
      "Unknow day : 143\n",
      "Unknow day : 143\n",
      "Unknow day : 143\n",
      "Unknow day : 143\n",
      "Unknow day : 152\n",
      "Unknow day : 152\n",
      "Unknow day : 154\n",
      "Unknow day : 136\n",
      "Unknow day : 136\n",
      "Unknow day : 136\n",
      "Unknow day : 136\n",
      "Unknow day : 136\n",
      "Unknow day : 136\n",
      "Unknow day : 136\n",
      "Unknow day : 136\n",
      "Unknow day : 136\n",
      "Unknow day : 136\n",
      "Unknow day : 136\n",
      "Unknow day : 136\n",
      "Unknow day : 136\n",
      "Unknow day : 136\n",
      "Unknow day : 136\n",
      "Unknow day : 136\n",
      "Unknow day : 143\n",
      "Unknow day : 143\n",
      "Unknow day : 143\n",
      "Unknow day : 143\n",
      "Unknow day : 152\n",
      "Unknow day : 152\n",
      "Unknow day : 154\n",
      "Unknow day : 136\n",
      "Unknow day : 136\n",
      "Unknow day : 136\n",
      "Unknow day : 136\n",
      "Unknow day : 136\n",
      "Unknow day : 136\n",
      "Unknow day : 136\n",
      "Unknow day : 136\n",
      "Unknow day : 136\n",
      "Unknow day : 136\n",
      "Unknow day : 136\n",
      "Unknow day : 136\n",
      "Unknow day : 136\n",
      "Unknow day : 136\n",
      "Unknow day : 136\n",
      "Unknow day : 136\n",
      "Unknow day : 143\n",
      "Unknow day : 143\n",
      "Unknow day : 143\n",
      "Unknow day : 143\n",
      "Unknow day : 152\n",
      "Unknow day : 152\n",
      "Unknow day : 154\n",
      "Unknow day : 134\n",
      "Unknow day : 136\n",
      "Unknow day : 136\n",
      "Unknow day : 136\n",
      "Unknow day : 136\n",
      "Unknow day : 136\n",
      "Unknow day : 136\n",
      "Unknow day : 136\n",
      "Unknow day : 136\n",
      "Unknow day : 136\n",
      "Unknow day : 136\n",
      "Unknow day : 136\n",
      "Unknow day : 136\n",
      "Unknow day : 136\n",
      "Unknow day : 136\n",
      "Unknow day : 136\n",
      "Unknow day : 136\n",
      "Unknow day : 143\n",
      "Unknow day : 143\n",
      "Unknow day : 143\n",
      "Unknow day : 143\n",
      "Unknow day : 152\n",
      "Unknow day : 152\n",
      "Unknow day : 154\n",
      "Unknow day : 134\n",
      "Unknow day : 136\n",
      "Unknow day : 136\n",
      "Unknow day : 136\n",
      "Unknow day : 136\n",
      "Unknow day : 136\n",
      "Unknow day : 136\n",
      "Unknow day : 136\n",
      "Unknow day : 136\n",
      "Unknow day : 136\n",
      "Unknow day : 136\n",
      "Unknow day : 136\n",
      "Unknow day : 136\n",
      "Unknow day : 136\n",
      "Unknow day : 136\n",
      "Unknow day : 136\n",
      "Unknow day : 136\n",
      "Unknow day : 143\n",
      "Unknow day : 143\n",
      "Unknow day : 143\n",
      "Unknow day : 143\n",
      "Unknow day : 152\n",
      "Unknow day : 152\n",
      "Unknow day : 154\n",
      "Unknow day : 134\n",
      "Unknow day : 136\n",
      "Unknow day : 136\n",
      "Unknow day : 136\n",
      "Unknow day : 136\n",
      "Unknow day : 136\n",
      "Unknow day : 136\n",
      "Unknow day : 136\n",
      "Unknow day : 136\n",
      "Unknow day : 136\n",
      "Unknow day : 136\n",
      "Unknow day : 136\n",
      "Unknow day : 136\n",
      "Unknow day : 136\n",
      "Unknow day : 136\n",
      "Unknow day : 136\n",
      "Unknow day : 136\n",
      "Unknow day : 143\n",
      "Unknow day : 143\n",
      "Unknow day : 143\n",
      "Unknow day : 143\n",
      "Unknow day : 152\n",
      "Unknow day : 152\n",
      "Unknow day : 154\n",
      "Unknow day : 134\n",
      "Unknow day : 136\n",
      "Unknow day : 136\n",
      "Unknow day : 136\n",
      "Unknow day : 136\n",
      "Unknow day : 136\n",
      "Unknow day : 136\n",
      "Unknow day : 136\n",
      "Unknow day : 136\n",
      "Unknow day : 136\n",
      "Unknow day : 136\n",
      "Unknow day : 136\n",
      "Unknow day : 136\n",
      "Unknow day : 136\n",
      "Unknow day : 136\n",
      "Unknow day : 136\n",
      "Unknow day : 136\n",
      "Unknow day : 143\n",
      "Unknow day : 143\n",
      "Unknow day : 143\n",
      "Unknow day : 143\n",
      "Unknow day : 152\n",
      "Unknow day : 152\n",
      "Unknow day : 154\n",
      "Unknow day : 134\n",
      "Unknow day : 136\n",
      "Unknow day : 136\n",
      "Unknow day : 136\n",
      "Unknow day : 136\n",
      "Unknow day : 136\n",
      "Unknow day : 136\n",
      "Unknow day : 136\n",
      "Unknow day : 136\n",
      "Unknow day : 136\n",
      "Unknow day : 136\n",
      "Unknow day : 136\n",
      "Unknow day : 136\n",
      "Unknow day : 136\n",
      "Unknow day : 136\n",
      "Unknow day : 136\n",
      "Unknow day : 136\n",
      "Unknow day : 143\n",
      "Unknow day : 143\n",
      "Unknow day : 143\n",
      "Unknow day : 143\n",
      "Unknow day : 152\n",
      "Unknow day : 152\n",
      "Unknow day : 154\n",
      "Unknow day : 134\n",
      "Unknow day : 136\n",
      "Unknow day : 136\n",
      "Unknow day : 136\n",
      "Unknow day : 136\n",
      "Unknow day : 136\n",
      "Unknow day : 136\n",
      "Unknow day : 136\n",
      "Unknow day : 136\n",
      "Unknow day : 136\n",
      "Unknow day : 136\n",
      "Unknow day : 136\n",
      "Unknow day : 136\n",
      "Unknow day : 136\n",
      "Unknow day : 136\n",
      "Unknow day : 136\n",
      "Unknow day : 136\n",
      "Unknow day : 143\n",
      "Unknow day : 143\n",
      "Unknow day : 143\n",
      "Unknow day : 143\n",
      "Unknow day : 152\n",
      "Unknow day : 152\n",
      "Unknow day : 154\n",
      "Unknow day : 134\n",
      "Unknow day : 136\n",
      "Unknow day : 136\n",
      "Unknow day : 136\n",
      "Unknow day : 136\n",
      "Unknow day : 136\n",
      "Unknow day : 136\n",
      "Unknow day : 136\n",
      "Unknow day : 136\n",
      "Unknow day : 136\n",
      "Unknow day : 136\n",
      "Unknow day : 136\n",
      "Unknow day : 136\n",
      "Unknow day : 136\n",
      "Unknow day : 136\n",
      "Unknow day : 136\n",
      "Unknow day : 136\n",
      "Unknow day : 143\n",
      "Unknow day : 143\n",
      "Unknow day : 143\n",
      "Unknow day : 143\n",
      "Unknow day : 152\n",
      "Unknow day : 152\n",
      "Unknow day : 154\n",
      "Unknow day : 134\n",
      "Unknow day : 136\n",
      "Unknow day : 136\n",
      "Unknow day : 136\n",
      "Unknow day : 136\n",
      "Unknow day : 136\n",
      "Unknow day : 136\n",
      "Unknow day : 136\n",
      "Unknow day : 136\n",
      "Unknow day : 136\n",
      "Unknow day : 136\n",
      "Unknow day : 136\n",
      "Unknow day : 136\n",
      "Unknow day : 136\n",
      "Unknow day : 136\n",
      "Unknow day : 136\n",
      "Unknow day : 136\n",
      "Unknow day : 143\n",
      "Unknow day : 143\n",
      "Unknow day : 143\n",
      "Unknow day : 143\n",
      "Unknow day : 152\n",
      "Unknow day : 152\n",
      "Unknow day : 154\n",
      "Unknow day : 134\n",
      "Unknow day : 136\n",
      "Unknow day : 136\n",
      "Unknow day : 136\n",
      "Unknow day : 136\n",
      "Unknow day : 136\n",
      "Unknow day : 136\n",
      "Unknow day : 136\n",
      "Unknow day : 136\n",
      "Unknow day : 136\n",
      "Unknow day : 136\n",
      "Unknow day : 136\n",
      "Unknow day : 136\n",
      "Unknow day : 136\n",
      "Unknow day : 136\n",
      "Unknow day : 136\n",
      "Unknow day : 136\n",
      "Unknow day : 143\n",
      "Unknow day : 143\n",
      "Unknow day : 143\n",
      "Unknow day : 143\n",
      "Unknow day : 152\n",
      "Unknow day : 152\n",
      "Unknow day : 154\n",
      "Unknow day : 134\n",
      "Unknow day : 136\n",
      "Unknow day : 136\n",
      "Unknow day : 136\n",
      "Unknow day : 136\n",
      "Unknow day : 136\n",
      "Unknow day : 136\n",
      "Unknow day : 136\n",
      "Unknow day : 136\n",
      "Unknow day : 136\n",
      "Unknow day : 136\n",
      "Unknow day : 136\n",
      "Unknow day : 136\n",
      "Unknow day : 136\n",
      "Unknow day : 136\n",
      "Unknow day : 136\n",
      "Unknow day : 136\n",
      "Unknow day : 143\n",
      "Unknow day : 143\n",
      "Unknow day : 143\n",
      "Unknow day : 143\n",
      "Unknow day : 152\n",
      "Unknow day : 152\n",
      "Unknow day : 154\n",
      "Unknow day : 134\n",
      "Unknow day : 134\n",
      "Unknow day : 135\n",
      "Unknow day : 135\n",
      "Unknow day : 136\n",
      "Unknow day : 136\n",
      "Unknow day : 136\n",
      "Unknow day : 136\n",
      "Unknow day : 136\n",
      "Unknow day : 136\n",
      "Unknow day : 136\n",
      "Unknow day : 136\n",
      "Unknow day : 136\n",
      "Unknow day : 136\n",
      "Unknow day : 136\n",
      "Unknow day : 136\n",
      "Unknow day : 136\n",
      "Unknow day : 136\n",
      "Unknow day : 136\n",
      "Unknow day : 136\n",
      "Unknow day : 143\n",
      "Unknow day : 143\n",
      "Unknow day : 143\n",
      "Unknow day : 143\n",
      "Unknow day : 152\n",
      "Unknow day : 152\n",
      "Unknow day : 154\n",
      "Unknow day : 134\n",
      "Unknow day : 134\n",
      "Unknow day : 135\n",
      "Unknow day : 135\n",
      "Unknow day : 136\n",
      "Unknow day : 136\n",
      "Unknow day : 136\n",
      "Unknow day : 136\n",
      "Unknow day : 136\n",
      "Unknow day : 136\n",
      "Unknow day : 136\n",
      "Unknow day : 136\n",
      "Unknow day : 136\n",
      "Unknow day : 136\n",
      "Unknow day : 136\n",
      "Unknow day : 136\n",
      "Unknow day : 136\n",
      "Unknow day : 136\n",
      "Unknow day : 136\n",
      "Unknow day : 136\n",
      "Unknow day : 143\n",
      "Unknow day : 143\n",
      "Unknow day : 143\n",
      "Unknow day : 143\n",
      "Unknow day : 152\n",
      "Unknow day : 152\n",
      "Unknow day : 154\n",
      "Unknow day : 134\n",
      "Unknow day : 134\n",
      "Unknow day : 135\n",
      "Unknow day : 135\n",
      "Unknow day : 136\n",
      "Unknow day : 136\n",
      "Unknow day : 136\n",
      "Unknow day : 136\n",
      "Unknow day : 136\n",
      "Unknow day : 136\n",
      "Unknow day : 136\n",
      "Unknow day : 136\n",
      "Unknow day : 136\n",
      "Unknow day : 136\n",
      "Unknow day : 136\n",
      "Unknow day : 136\n",
      "Unknow day : 136\n",
      "Unknow day : 136\n",
      "Unknow day : 136\n",
      "Unknow day : 136\n",
      "Unknow day : 143\n",
      "Unknow day : 143\n",
      "Unknow day : 143\n",
      "Unknow day : 143\n",
      "Unknow day : 152\n",
      "Unknow day : 152\n",
      "Unknow day : 154\n",
      "Unknow day : 134\n",
      "Unknow day : 134\n",
      "Unknow day : 135\n",
      "Unknow day : 135\n",
      "Unknow day : 136\n",
      "Unknow day : 136\n",
      "Unknow day : 136\n",
      "Unknow day : 136\n",
      "Unknow day : 136\n",
      "Unknow day : 136\n",
      "Unknow day : 136\n",
      "Unknow day : 136\n",
      "Unknow day : 136\n",
      "Unknow day : 136\n",
      "Unknow day : 136\n",
      "Unknow day : 136\n",
      "Unknow day : 136\n",
      "Unknow day : 136\n",
      "Unknow day : 136\n",
      "Unknow day : 136\n",
      "Unknow day : 143\n",
      "Unknow day : 143\n",
      "Unknow day : 143\n",
      "Unknow day : 143\n",
      "Unknow day : 152\n",
      "Unknow day : 152\n",
      "Unknow day : 154\n",
      "Unknow day : 134\n",
      "Unknow day : 134\n",
      "Unknow day : 135\n",
      "Unknow day : 135\n",
      "Unknow day : 136\n",
      "Unknow day : 136\n",
      "Unknow day : 136\n",
      "Unknow day : 136\n",
      "Unknow day : 136\n",
      "Unknow day : 136\n",
      "Unknow day : 136\n",
      "Unknow day : 136\n",
      "Unknow day : 136\n",
      "Unknow day : 136\n",
      "Unknow day : 136\n",
      "Unknow day : 136\n",
      "Unknow day : 136\n",
      "Unknow day : 136\n",
      "Unknow day : 136\n",
      "Unknow day : 136\n",
      "Unknow day : 143\n",
      "Unknow day : 143\n",
      "Unknow day : 143\n",
      "Unknow day : 143\n",
      "Unknow day : 152\n",
      "Unknow day : 152\n",
      "Unknow day : 154\n",
      "Unknow day : 134\n",
      "Unknow day : 134\n",
      "Unknow day : 135\n",
      "Unknow day : 135\n",
      "Unknow day : 136\n",
      "Unknow day : 136\n",
      "Unknow day : 136\n",
      "Unknow day : 136\n",
      "Unknow day : 136\n",
      "Unknow day : 136\n",
      "Unknow day : 136\n",
      "Unknow day : 136\n",
      "Unknow day : 136\n",
      "Unknow day : 136\n",
      "Unknow day : 136\n",
      "Unknow day : 136\n",
      "Unknow day : 136\n",
      "Unknow day : 136\n",
      "Unknow day : 136\n",
      "Unknow day : 136\n",
      "Unknow day : 143\n",
      "Unknow day : 143\n",
      "Unknow day : 143\n",
      "Unknow day : 143\n",
      "Unknow day : 152\n",
      "Unknow day : 152\n",
      "Unknow day : 154\n",
      "Unknow day : 134\n",
      "Unknow day : 134\n",
      "Unknow day : 135\n",
      "Unknow day : 135\n",
      "Unknow day : 136\n",
      "Unknow day : 136\n",
      "Unknow day : 136\n",
      "Unknow day : 136\n",
      "Unknow day : 136\n",
      "Unknow day : 136\n",
      "Unknow day : 136\n",
      "Unknow day : 136\n",
      "Unknow day : 136\n",
      "Unknow day : 136\n",
      "Unknow day : 136\n",
      "Unknow day : 136\n",
      "Unknow day : 136\n",
      "Unknow day : 136\n",
      "Unknow day : 136\n",
      "Unknow day : 136\n",
      "Unknow day : 143\n",
      "Unknow day : 143\n",
      "Unknow day : 143\n",
      "Unknow day : 143\n",
      "Unknow day : 152\n",
      "Unknow day : 152\n",
      "Unknow day : 154\n",
      "Unknow day : 134\n",
      "Unknow day : 134\n",
      "Unknow day : 135\n",
      "Unknow day : 135\n",
      "Unknow day : 136\n",
      "Unknow day : 136\n",
      "Unknow day : 136\n",
      "Unknow day : 136\n",
      "Unknow day : 136\n",
      "Unknow day : 136\n",
      "Unknow day : 136\n",
      "Unknow day : 136\n",
      "Unknow day : 136\n",
      "Unknow day : 136\n",
      "Unknow day : 136\n",
      "Unknow day : 136\n",
      "Unknow day : 136\n",
      "Unknow day : 136\n",
      "Unknow day : 136\n",
      "Unknow day : 136\n",
      "Unknow day : 143\n",
      "Unknow day : 143\n",
      "Unknow day : 143\n",
      "Unknow day : 143\n",
      "Unknow day : 152\n",
      "Unknow day : 152\n",
      "Unknow day : 154\n",
      "Unknow day : 134\n",
      "Unknow day : 134\n",
      "Unknow day : 135\n",
      "Unknow day : 135\n",
      "Unknow day : 136\n",
      "Unknow day : 136\n",
      "Unknow day : 136\n",
      "Unknow day : 136\n",
      "Unknow day : 136\n",
      "Unknow day : 136\n",
      "Unknow day : 136\n",
      "Unknow day : 136\n",
      "Unknow day : 136\n",
      "Unknow day : 136\n",
      "Unknow day : 136\n",
      "Unknow day : 136\n",
      "Unknow day : 136\n",
      "Unknow day : 136\n",
      "Unknow day : 136\n",
      "Unknow day : 136\n",
      "Unknow day : 143\n",
      "Unknow day : 143\n",
      "Unknow day : 143\n",
      "Unknow day : 143\n",
      "Unknow day : 152\n",
      "Unknow day : 152\n",
      "Unknow day : 154\n",
      "Unknow day : 136\n",
      "Unknow day : 136\n",
      "Unknow day : 136\n",
      "Unknow day : 136\n",
      "Unknow day : 152\n",
      "Unknow day : 152\n",
      "Unknow day : 154\n"
     ]
    }
   ],
   "source": [
    "df_tourney_results['Round'] = df_tourney_results['DayNum'].apply(get_round)"
   ]
  },
  {
   "cell_type": "code",
   "execution_count": 20,
   "metadata": {
    "execution": {
     "iopub.execute_input": "2021-02-26T14:15:31.398381Z",
     "iopub.status.busy": "2021-02-26T14:15:31.397602Z",
     "iopub.status.idle": "2021-02-26T14:15:31.403052Z",
     "shell.execute_reply": "2021-02-26T14:15:31.402481Z"
    },
    "papermill": {
     "duration": 0.067581,
     "end_time": "2021-02-26T14:15:31.403211",
     "exception": false,
     "start_time": "2021-02-26T14:15:31.335630",
     "status": "completed"
    },
    "tags": []
   },
   "outputs": [
    {
     "data": {
      "text/html": [
       "<div>\n",
       "<style scoped>\n",
       "    .dataframe tbody tr th:only-of-type {\n",
       "        vertical-align: middle;\n",
       "    }\n",
       "\n",
       "    .dataframe tbody tr th {\n",
       "        vertical-align: top;\n",
       "    }\n",
       "\n",
       "    .dataframe thead th {\n",
       "        text-align: right;\n",
       "    }\n",
       "</style>\n",
       "<table border=\"1\" class=\"dataframe\">\n",
       "  <thead>\n",
       "    <tr style=\"text-align: right;\">\n",
       "      <th></th>\n",
       "      <th>Season</th>\n",
       "      <th>DayNum</th>\n",
       "      <th>WTeamID</th>\n",
       "      <th>WScore</th>\n",
       "      <th>LTeamID</th>\n",
       "      <th>LScore</th>\n",
       "      <th>Round</th>\n",
       "    </tr>\n",
       "  </thead>\n",
       "  <tbody>\n",
       "    <tr>\n",
       "      <th>0</th>\n",
       "      <td>1985</td>\n",
       "      <td>136</td>\n",
       "      <td>1116</td>\n",
       "      <td>63</td>\n",
       "      <td>1234</td>\n",
       "      <td>54</td>\n",
       "      <td>0</td>\n",
       "    </tr>\n",
       "    <tr>\n",
       "      <th>1</th>\n",
       "      <td>1985</td>\n",
       "      <td>136</td>\n",
       "      <td>1120</td>\n",
       "      <td>59</td>\n",
       "      <td>1345</td>\n",
       "      <td>58</td>\n",
       "      <td>0</td>\n",
       "    </tr>\n",
       "    <tr>\n",
       "      <th>2</th>\n",
       "      <td>1985</td>\n",
       "      <td>136</td>\n",
       "      <td>1207</td>\n",
       "      <td>68</td>\n",
       "      <td>1250</td>\n",
       "      <td>43</td>\n",
       "      <td>0</td>\n",
       "    </tr>\n",
       "    <tr>\n",
       "      <th>3</th>\n",
       "      <td>1985</td>\n",
       "      <td>136</td>\n",
       "      <td>1229</td>\n",
       "      <td>58</td>\n",
       "      <td>1425</td>\n",
       "      <td>55</td>\n",
       "      <td>0</td>\n",
       "    </tr>\n",
       "    <tr>\n",
       "      <th>4</th>\n",
       "      <td>1985</td>\n",
       "      <td>136</td>\n",
       "      <td>1242</td>\n",
       "      <td>49</td>\n",
       "      <td>1325</td>\n",
       "      <td>38</td>\n",
       "      <td>0</td>\n",
       "    </tr>\n",
       "  </tbody>\n",
       "</table>\n",
       "</div>"
      ],
      "text/plain": [
       "   Season  DayNum  WTeamID  WScore  LTeamID  LScore  Round\n",
       "0    1985     136     1116      63     1234      54      0\n",
       "1    1985     136     1120      59     1345      58      0\n",
       "2    1985     136     1207      68     1250      43      0\n",
       "3    1985     136     1229      58     1425      55      0\n",
       "4    1985     136     1242      49     1325      38      0"
      ]
     },
     "execution_count": 20,
     "metadata": {},
     "output_type": "execute_result"
    }
   ],
   "source": [
    "df_tourney_results.head()"
   ]
  },
  {
   "cell_type": "markdown",
   "metadata": {
    "papermill": {
     "duration": 0.051688,
     "end_time": "2021-02-26T14:15:31.507752",
     "exception": false,
     "start_time": "2021-02-26T14:15:31.456064",
     "status": "completed"
    },
    "tags": []
   },
   "source": [
    "## Ratings\n",
    "- Only for men...\n",
    "\n",
    "### Massey Ordinals\n",
    "\n",
    "> This file lists out rankings (e.g. #1, #2, #3, ..., #N) of teams going back to the 2002-2003 season, under a large number of different ranking system methodologies.\n",
    "- Season - this is the year of the associated entry in MSeasons.csv (the year in which the final tournament occurs)\n",
    "- RankingDayNum - First day that it is appropriate to use the rankings for predicting games. Use 133 for the tournament. \n",
    "- SystemName - this is the (usually) 3-letter abbreviation for each distinct ranking system.\n",
    "- TeamID - this is the ID of the team being ranked, as described in MTeams.csv.\n",
    "- OrdinalRank - this is the overall ranking of the team in the underlying system. Most systems from recent seasons provide a complete ranking from #1 through #351, but sometimes there are ties and sometimes only a smaller set of rankings is provided, as with the AP's top 25. This year and last year they will typically go up to #353 because two new teams were added to Division I last year."
   ]
  },
  {
   "cell_type": "code",
   "execution_count": 22,
   "metadata": {
    "execution": {
     "iopub.execute_input": "2021-02-26T14:15:31.618372Z",
     "iopub.status.busy": "2021-02-26T14:15:31.617326Z",
     "iopub.status.idle": "2021-02-26T14:15:31.620923Z",
     "shell.execute_reply": "2021-02-26T14:15:31.620247Z"
    },
    "papermill": {
     "duration": 0.060073,
     "end_time": "2021-02-26T14:15:31.621090",
     "exception": false,
     "start_time": "2021-02-26T14:15:31.561017",
     "status": "completed"
    },
    "tags": []
   },
   "outputs": [],
   "source": [
    "df_massey = pd.read_csv(DATA_PATH_M + \"MMasseyOrdinals_thruDay128.csv\")\n",
    "df_massey = df_massey[df_massey['RankingDayNum'] == 133].drop('RankingDayNum', axis=1).reset_index(drop=True) # use first day of the tournament"
   ]
  },
  {
   "cell_type": "code",
   "execution_count": 23,
   "metadata": {
    "execution": {
     "iopub.execute_input": "2021-02-26T14:15:31.732454Z",
     "iopub.status.busy": "2021-02-26T14:15:31.731429Z",
     "iopub.status.idle": "2021-02-26T14:15:31.734516Z",
     "shell.execute_reply": "2021-02-26T14:15:31.733917Z"
    },
    "papermill": {
     "duration": 0.061298,
     "end_time": "2021-02-26T14:15:31.734670",
     "exception": false,
     "start_time": "2021-02-26T14:15:31.673372",
     "status": "completed"
    },
    "tags": []
   },
   "outputs": [
    {
     "data": {
      "text/html": [
       "<div>\n",
       "<style scoped>\n",
       "    .dataframe tbody tr th:only-of-type {\n",
       "        vertical-align: middle;\n",
       "    }\n",
       "\n",
       "    .dataframe tbody tr th {\n",
       "        vertical-align: top;\n",
       "    }\n",
       "\n",
       "    .dataframe thead th {\n",
       "        text-align: right;\n",
       "    }\n",
       "</style>\n",
       "<table border=\"1\" class=\"dataframe\">\n",
       "  <thead>\n",
       "    <tr style=\"text-align: right;\">\n",
       "      <th></th>\n",
       "      <th>Season</th>\n",
       "      <th>SystemName</th>\n",
       "      <th>TeamID</th>\n",
       "      <th>OrdinalRank</th>\n",
       "    </tr>\n",
       "  </thead>\n",
       "  <tbody>\n",
       "    <tr>\n",
       "      <th>309504</th>\n",
       "      <td>2021</td>\n",
       "      <td>WOB</td>\n",
       "      <td>1467</td>\n",
       "      <td>233</td>\n",
       "    </tr>\n",
       "    <tr>\n",
       "      <th>309505</th>\n",
       "      <td>2021</td>\n",
       "      <td>WOB</td>\n",
       "      <td>1468</td>\n",
       "      <td>176</td>\n",
       "    </tr>\n",
       "    <tr>\n",
       "      <th>309506</th>\n",
       "      <td>2021</td>\n",
       "      <td>WOB</td>\n",
       "      <td>1469</td>\n",
       "      <td>290</td>\n",
       "    </tr>\n",
       "    <tr>\n",
       "      <th>309507</th>\n",
       "      <td>2021</td>\n",
       "      <td>WOB</td>\n",
       "      <td>1470</td>\n",
       "      <td>256</td>\n",
       "    </tr>\n",
       "    <tr>\n",
       "      <th>309508</th>\n",
       "      <td>2021</td>\n",
       "      <td>WOB</td>\n",
       "      <td>1471</td>\n",
       "      <td>234</td>\n",
       "    </tr>\n",
       "  </tbody>\n",
       "</table>\n",
       "</div>"
      ],
      "text/plain": [
       "        Season SystemName  TeamID  OrdinalRank\n",
       "309504    2021        WOB    1467          233\n",
       "309505    2021        WOB    1468          176\n",
       "309506    2021        WOB    1469          290\n",
       "309507    2021        WOB    1470          256\n",
       "309508    2021        WOB    1471          234"
      ]
     },
     "execution_count": 23,
     "metadata": {},
     "output_type": "execute_result"
    }
   ],
   "source": [
    "df_massey.tail()"
   ]
  },
  {
   "cell_type": "markdown",
   "metadata": {
    "papermill": {
     "duration": 0.051617,
     "end_time": "2021-02-26T14:15:31.838220",
     "exception": false,
     "start_time": "2021-02-26T14:15:31.786603",
     "status": "completed"
    },
    "tags": []
   },
   "source": [
    "### Processing\n",
    "\n",
    "- I keep only systems that are common to all the years."
   ]
  },
  {
   "cell_type": "code",
   "execution_count": 24,
   "metadata": {
    "execution": {
     "iopub.execute_input": "2021-02-26T14:15:31.949563Z",
     "iopub.status.busy": "2021-02-26T14:15:31.948805Z",
     "iopub.status.idle": "2021-02-26T14:15:31.952748Z",
     "shell.execute_reply": "2021-02-26T14:15:31.951991Z"
    },
    "papermill": {
     "duration": 0.062295,
     "end_time": "2021-02-26T14:15:31.952930",
     "exception": false,
     "start_time": "2021-02-26T14:15:31.890635",
     "status": "completed"
    },
    "tags": []
   },
   "outputs": [],
   "source": [
    "# systems = []\n",
    "# for year in range(2003, 2019):\n",
    "#     r = df_massey[df_massey['Season'] == year]\n",
    "#     systems.append(r['SystemName'].unique())\n",
    "    \n",
    "# all_systems = list(set(list(np.concatenate(systems))))"
   ]
  },
  {
   "cell_type": "code",
   "execution_count": 25,
   "metadata": {
    "execution": {
     "iopub.execute_input": "2021-02-26T14:15:32.066253Z",
     "iopub.status.busy": "2021-02-26T14:15:32.065520Z",
     "iopub.status.idle": "2021-02-26T14:15:32.069073Z",
     "shell.execute_reply": "2021-02-26T14:15:32.068411Z"
    },
    "papermill": {
     "duration": 0.062246,
     "end_time": "2021-02-26T14:15:32.069243",
     "exception": false,
     "start_time": "2021-02-26T14:15:32.006997",
     "status": "completed"
    },
    "tags": []
   },
   "outputs": [],
   "source": [
    "# common_systems = []  \n",
    "# for system in all_systems:\n",
    "#     common = True\n",
    "#     for system_years in systems:\n",
    "#         if system not in system_years:\n",
    "#             common = False\n",
    "#     if common:\n",
    "#         common_systems.append(system)\n",
    "        \n",
    "# common_systems"
   ]
  },
  {
   "cell_type": "code",
   "execution_count": 26,
   "metadata": {
    "execution": {
     "iopub.execute_input": "2021-02-26T14:15:32.182640Z",
     "iopub.status.busy": "2021-02-26T14:15:32.181918Z",
     "iopub.status.idle": "2021-02-26T14:15:32.185485Z",
     "shell.execute_reply": "2021-02-26T14:15:32.184928Z"
    },
    "papermill": {
     "duration": 0.062324,
     "end_time": "2021-02-26T14:15:32.185634",
     "exception": false,
     "start_time": "2021-02-26T14:15:32.123310",
     "status": "completed"
    },
    "tags": []
   },
   "outputs": [],
   "source": [
    "# df_massey = df_massey[df_massey['SystemName'].isin(common_systems)].reset_index(drop=True)"
   ]
  },
  {
   "cell_type": "markdown",
   "metadata": {
    "papermill": {
     "duration": 0.052366,
     "end_time": "2021-02-26T14:15:32.290452",
     "exception": false,
     "start_time": "2021-02-26T14:15:32.238086",
     "status": "completed"
    },
    "tags": []
   },
   "source": [
    "# Feature Engineering"
   ]
  },
  {
   "cell_type": "markdown",
   "metadata": {
    "papermill": {
     "duration": 0.053988,
     "end_time": "2021-02-26T14:15:32.397906",
     "exception": false,
     "start_time": "2021-02-26T14:15:32.343918",
     "status": "completed"
    },
    "tags": []
   },
   "source": [
    "## Train data"
   ]
  },
  {
   "cell_type": "code",
   "execution_count": 27,
   "metadata": {
    "execution": {
     "iopub.execute_input": "2021-02-26T14:15:32.513448Z",
     "iopub.status.busy": "2021-02-26T14:15:32.512720Z",
     "iopub.status.idle": "2021-02-26T14:15:32.525130Z",
     "shell.execute_reply": "2021-02-26T14:15:32.524532Z"
    },
    "papermill": {
     "duration": 0.073248,
     "end_time": "2021-02-26T14:15:32.525289",
     "exception": false,
     "start_time": "2021-02-26T14:15:32.452041",
     "status": "completed"
    },
    "tags": []
   },
   "outputs": [
    {
     "data": {
      "text/html": [
       "<div>\n",
       "<style scoped>\n",
       "    .dataframe tbody tr th:only-of-type {\n",
       "        vertical-align: middle;\n",
       "    }\n",
       "\n",
       "    .dataframe tbody tr th {\n",
       "        vertical-align: top;\n",
       "    }\n",
       "\n",
       "    .dataframe thead th {\n",
       "        text-align: right;\n",
       "    }\n",
       "</style>\n",
       "<table border=\"1\" class=\"dataframe\">\n",
       "  <thead>\n",
       "    <tr style=\"text-align: right;\">\n",
       "      <th></th>\n",
       "      <th>Season</th>\n",
       "      <th>DayNum</th>\n",
       "      <th>WTeamID</th>\n",
       "      <th>WScore</th>\n",
       "      <th>LTeamID</th>\n",
       "      <th>LScore</th>\n",
       "      <th>Round</th>\n",
       "    </tr>\n",
       "  </thead>\n",
       "  <tbody>\n",
       "    <tr>\n",
       "      <th>0</th>\n",
       "      <td>2003</td>\n",
       "      <td>134</td>\n",
       "      <td>1421</td>\n",
       "      <td>92</td>\n",
       "      <td>1411</td>\n",
       "      <td>84</td>\n",
       "      <td>0</td>\n",
       "    </tr>\n",
       "    <tr>\n",
       "      <th>1</th>\n",
       "      <td>2003</td>\n",
       "      <td>136</td>\n",
       "      <td>1112</td>\n",
       "      <td>80</td>\n",
       "      <td>1436</td>\n",
       "      <td>51</td>\n",
       "      <td>0</td>\n",
       "    </tr>\n",
       "    <tr>\n",
       "      <th>2</th>\n",
       "      <td>2003</td>\n",
       "      <td>136</td>\n",
       "      <td>1113</td>\n",
       "      <td>84</td>\n",
       "      <td>1272</td>\n",
       "      <td>71</td>\n",
       "      <td>0</td>\n",
       "    </tr>\n",
       "    <tr>\n",
       "      <th>3</th>\n",
       "      <td>2003</td>\n",
       "      <td>136</td>\n",
       "      <td>1141</td>\n",
       "      <td>79</td>\n",
       "      <td>1166</td>\n",
       "      <td>73</td>\n",
       "      <td>0</td>\n",
       "    </tr>\n",
       "    <tr>\n",
       "      <th>4</th>\n",
       "      <td>2003</td>\n",
       "      <td>136</td>\n",
       "      <td>1143</td>\n",
       "      <td>76</td>\n",
       "      <td>1301</td>\n",
       "      <td>74</td>\n",
       "      <td>0</td>\n",
       "    </tr>\n",
       "  </tbody>\n",
       "</table>\n",
       "</div>"
      ],
      "text/plain": [
       "   Season  DayNum  WTeamID  WScore  LTeamID  LScore  Round\n",
       "0    2003     134     1421      92     1411      84      0\n",
       "1    2003     136     1112      80     1436      51      0\n",
       "2    2003     136     1113      84     1272      71      0\n",
       "3    2003     136     1141      79     1166      73      0\n",
       "4    2003     136     1143      76     1301      74      0"
      ]
     },
     "execution_count": 27,
     "metadata": {},
     "output_type": "execute_result"
    }
   ],
   "source": [
    "df = df_tourney_results.copy()\n",
    "df = df[df['Season'] >= 2003].reset_index(drop=True)\n",
    "\n",
    "df.head()"
   ]
  },
  {
   "cell_type": "markdown",
   "metadata": {
    "papermill": {
     "duration": 0.05366,
     "end_time": "2021-02-26T14:15:32.634381",
     "exception": false,
     "start_time": "2021-02-26T14:15:32.580721",
     "status": "completed"
    },
    "tags": []
   },
   "source": [
    "- Each row corresponds to a match between `WTeamID` and `LTeamID`, which was won by `WTeamID`. \n",
    "- I only keep matches after 2003 since I don't have the ratings for the older ones.\n",
    "- I start by aggregating features coresponding to each tem."
   ]
  },
  {
   "cell_type": "markdown",
   "metadata": {
    "papermill": {
     "duration": 0.055702,
     "end_time": "2021-02-26T14:15:32.743132",
     "exception": false,
     "start_time": "2021-02-26T14:15:32.687430",
     "status": "completed"
    },
    "tags": []
   },
   "source": [
    "### Seeds\n",
    "- `SeedW` is the seed of the winning team\n",
    "- `SeedL` is the seed of the losing team"
   ]
  },
  {
   "cell_type": "code",
   "execution_count": 28,
   "metadata": {
    "execution": {
     "iopub.execute_input": "2021-02-26T14:15:32.858292Z",
     "iopub.status.busy": "2021-02-26T14:15:32.857617Z",
     "iopub.status.idle": "2021-02-26T14:15:32.865519Z",
     "shell.execute_reply": "2021-02-26T14:15:32.864798Z"
    },
    "papermill": {
     "duration": 0.06909,
     "end_time": "2021-02-26T14:15:32.865698",
     "exception": false,
     "start_time": "2021-02-26T14:15:32.796608",
     "status": "completed"
    },
    "tags": []
   },
   "outputs": [],
   "source": [
    "df = pd.merge(\n",
    "    df, \n",
    "    df_seeds, \n",
    "    how='left', \n",
    "    left_on=['Season', 'WTeamID'], \n",
    "    right_on=['Season', 'TeamID']\n",
    ").drop('TeamID', axis=1).rename(columns={'Seed': 'SeedW'})"
   ]
  },
  {
   "cell_type": "code",
   "execution_count": 29,
   "metadata": {
    "execution": {
     "iopub.execute_input": "2021-02-26T14:15:32.982328Z",
     "iopub.status.busy": "2021-02-26T14:15:32.981544Z",
     "iopub.status.idle": "2021-02-26T14:15:32.989483Z",
     "shell.execute_reply": "2021-02-26T14:15:32.988767Z"
    },
    "papermill": {
     "duration": 0.06895,
     "end_time": "2021-02-26T14:15:32.989637",
     "exception": false,
     "start_time": "2021-02-26T14:15:32.920687",
     "status": "completed"
    },
    "tags": []
   },
   "outputs": [],
   "source": [
    "df = pd.merge(\n",
    "    df, \n",
    "    df_seeds, \n",
    "    how='left', \n",
    "    left_on=['Season', 'LTeamID'], \n",
    "    right_on=['Season', 'TeamID']\n",
    ").drop('TeamID', axis=1).rename(columns={'Seed': 'SeedL'})"
   ]
  },
  {
   "cell_type": "code",
   "execution_count": 30,
   "metadata": {
    "execution": {
     "iopub.execute_input": "2021-02-26T14:15:33.103998Z",
     "iopub.status.busy": "2021-02-26T14:15:33.103107Z",
     "iopub.status.idle": "2021-02-26T14:15:33.106282Z",
     "shell.execute_reply": "2021-02-26T14:15:33.105761Z"
    },
    "papermill": {
     "duration": 0.062713,
     "end_time": "2021-02-26T14:15:33.106462",
     "exception": false,
     "start_time": "2021-02-26T14:15:33.043749",
     "status": "completed"
    },
    "tags": []
   },
   "outputs": [],
   "source": [
    "def treat_seed(seed):\n",
    "    return int(re.sub(\"[^0-9]\", \"\", seed))"
   ]
  },
  {
   "cell_type": "code",
   "execution_count": 31,
   "metadata": {
    "execution": {
     "iopub.execute_input": "2021-02-26T14:15:33.230601Z",
     "iopub.status.busy": "2021-02-26T14:15:33.229757Z",
     "iopub.status.idle": "2021-02-26T14:15:33.232933Z",
     "shell.execute_reply": "2021-02-26T14:15:33.232248Z"
    },
    "papermill": {
     "duration": 0.071686,
     "end_time": "2021-02-26T14:15:33.233089",
     "exception": false,
     "start_time": "2021-02-26T14:15:33.161403",
     "status": "completed"
    },
    "tags": []
   },
   "outputs": [],
   "source": [
    "df['SeedW'] = df['SeedW'].apply(treat_seed)\n",
    "df['SeedL'] = df['SeedL'].apply(treat_seed)"
   ]
  },
  {
   "cell_type": "code",
   "execution_count": 32,
   "metadata": {
    "execution": {
     "iopub.execute_input": "2021-02-26T14:15:33.354613Z",
     "iopub.status.busy": "2021-02-26T14:15:33.353540Z",
     "iopub.status.idle": "2021-02-26T14:15:33.358493Z",
     "shell.execute_reply": "2021-02-26T14:15:33.357824Z"
    },
    "papermill": {
     "duration": 0.070706,
     "end_time": "2021-02-26T14:15:33.358642",
     "exception": false,
     "start_time": "2021-02-26T14:15:33.287936",
     "status": "completed"
    },
    "tags": []
   },
   "outputs": [
    {
     "data": {
      "text/html": [
       "<div>\n",
       "<style scoped>\n",
       "    .dataframe tbody tr th:only-of-type {\n",
       "        vertical-align: middle;\n",
       "    }\n",
       "\n",
       "    .dataframe tbody tr th {\n",
       "        vertical-align: top;\n",
       "    }\n",
       "\n",
       "    .dataframe thead th {\n",
       "        text-align: right;\n",
       "    }\n",
       "</style>\n",
       "<table border=\"1\" class=\"dataframe\">\n",
       "  <thead>\n",
       "    <tr style=\"text-align: right;\">\n",
       "      <th></th>\n",
       "      <th>Season</th>\n",
       "      <th>DayNum</th>\n",
       "      <th>WTeamID</th>\n",
       "      <th>WScore</th>\n",
       "      <th>LTeamID</th>\n",
       "      <th>LScore</th>\n",
       "      <th>Round</th>\n",
       "      <th>SeedW</th>\n",
       "      <th>SeedL</th>\n",
       "    </tr>\n",
       "  </thead>\n",
       "  <tbody>\n",
       "    <tr>\n",
       "      <th>0</th>\n",
       "      <td>2003</td>\n",
       "      <td>134</td>\n",
       "      <td>1421</td>\n",
       "      <td>92</td>\n",
       "      <td>1411</td>\n",
       "      <td>84</td>\n",
       "      <td>0</td>\n",
       "      <td>16</td>\n",
       "      <td>16</td>\n",
       "    </tr>\n",
       "    <tr>\n",
       "      <th>1</th>\n",
       "      <td>2003</td>\n",
       "      <td>136</td>\n",
       "      <td>1112</td>\n",
       "      <td>80</td>\n",
       "      <td>1436</td>\n",
       "      <td>51</td>\n",
       "      <td>0</td>\n",
       "      <td>1</td>\n",
       "      <td>16</td>\n",
       "    </tr>\n",
       "    <tr>\n",
       "      <th>2</th>\n",
       "      <td>2003</td>\n",
       "      <td>136</td>\n",
       "      <td>1113</td>\n",
       "      <td>84</td>\n",
       "      <td>1272</td>\n",
       "      <td>71</td>\n",
       "      <td>0</td>\n",
       "      <td>10</td>\n",
       "      <td>7</td>\n",
       "    </tr>\n",
       "    <tr>\n",
       "      <th>3</th>\n",
       "      <td>2003</td>\n",
       "      <td>136</td>\n",
       "      <td>1141</td>\n",
       "      <td>79</td>\n",
       "      <td>1166</td>\n",
       "      <td>73</td>\n",
       "      <td>0</td>\n",
       "      <td>11</td>\n",
       "      <td>6</td>\n",
       "    </tr>\n",
       "    <tr>\n",
       "      <th>4</th>\n",
       "      <td>2003</td>\n",
       "      <td>136</td>\n",
       "      <td>1143</td>\n",
       "      <td>76</td>\n",
       "      <td>1301</td>\n",
       "      <td>74</td>\n",
       "      <td>0</td>\n",
       "      <td>8</td>\n",
       "      <td>9</td>\n",
       "    </tr>\n",
       "  </tbody>\n",
       "</table>\n",
       "</div>"
      ],
      "text/plain": [
       "   Season  DayNum  WTeamID  WScore  LTeamID  LScore  Round  SeedW  SeedL\n",
       "0    2003     134     1421      92     1411      84      0     16     16\n",
       "1    2003     136     1112      80     1436      51      0      1     16\n",
       "2    2003     136     1113      84     1272      71      0     10      7\n",
       "3    2003     136     1141      79     1166      73      0     11      6\n",
       "4    2003     136     1143      76     1301      74      0      8      9"
      ]
     },
     "execution_count": 32,
     "metadata": {},
     "output_type": "execute_result"
    }
   ],
   "source": [
    "df.head()"
   ]
  },
  {
   "cell_type": "markdown",
   "metadata": {
    "papermill": {
     "duration": 0.054854,
     "end_time": "2021-02-26T14:15:33.469269",
     "exception": false,
     "start_time": "2021-02-26T14:15:33.414415",
     "status": "completed"
    },
    "tags": []
   },
   "source": [
    "### Season Stats\n",
    "- `WinRatioW` is the win ratio of the winning team during the season\n",
    "- `WinRatioL` is the win ratio of the losing team during the season"
   ]
  },
  {
   "cell_type": "code",
   "execution_count": 33,
   "metadata": {
    "execution": {
     "iopub.execute_input": "2021-02-26T14:15:33.588166Z",
     "iopub.status.busy": "2021-02-26T14:15:33.587047Z",
     "iopub.status.idle": "2021-02-26T14:15:33.597241Z",
     "shell.execute_reply": "2021-02-26T14:15:33.596655Z"
    },
    "papermill": {
     "duration": 0.073565,
     "end_time": "2021-02-26T14:15:33.597414",
     "exception": false,
     "start_time": "2021-02-26T14:15:33.523849",
     "status": "completed"
    },
    "tags": []
   },
   "outputs": [],
   "source": [
    "df = pd.merge(\n",
    "    df,\n",
    "    df_features_season,\n",
    "    how='left',\n",
    "    left_on=['Season', 'WTeamID'],\n",
    "    right_on=['Season', 'TeamID']\n",
    ").rename(columns={\n",
    "    'NumWins': 'NumWinsW',\n",
    "    'NumLosses': 'NumLossesW',\n",
    "    'GapWins': 'GapWinsW',\n",
    "    'GapLosses': 'GapLossesW',\n",
    "    'WinRatio': 'WinRatioW',\n",
    "    'GapAvg': 'GapAvgW',\n",
    "}).drop(columns='TeamID', axis=1)"
   ]
  },
  {
   "cell_type": "code",
   "execution_count": 34,
   "metadata": {
    "execution": {
     "iopub.execute_input": "2021-02-26T14:15:33.715048Z",
     "iopub.status.busy": "2021-02-26T14:15:33.713725Z",
     "iopub.status.idle": "2021-02-26T14:15:33.723837Z",
     "shell.execute_reply": "2021-02-26T14:15:33.723228Z"
    },
    "papermill": {
     "duration": 0.072114,
     "end_time": "2021-02-26T14:15:33.723982",
     "exception": false,
     "start_time": "2021-02-26T14:15:33.651868",
     "status": "completed"
    },
    "tags": []
   },
   "outputs": [],
   "source": [
    "df = pd.merge(\n",
    "    df,\n",
    "    df_features_season,\n",
    "    how='left',\n",
    "    left_on=['Season', 'LTeamID'],\n",
    "    right_on=['Season', 'TeamID']\n",
    ").rename(columns={\n",
    "    'NumWins': 'NumWinsL',\n",
    "    'NumLosses': 'NumLossesL',\n",
    "    'GapWins': 'GapWinsL',\n",
    "    'GapLosses': 'GapLossesL',\n",
    "    'WinRatio': 'WinRatioL',\n",
    "    'GapAvg': 'GapAvgL',\n",
    "}).drop(columns='TeamID', axis=1)"
   ]
  },
  {
   "cell_type": "code",
   "execution_count": 35,
   "metadata": {
    "execution": {
     "iopub.execute_input": "2021-02-26T14:15:33.853111Z",
     "iopub.status.busy": "2021-02-26T14:15:33.852059Z",
     "iopub.status.idle": "2021-02-26T14:15:33.856912Z",
     "shell.execute_reply": "2021-02-26T14:15:33.856408Z"
    },
    "papermill": {
     "duration": 0.076563,
     "end_time": "2021-02-26T14:15:33.857065",
     "exception": false,
     "start_time": "2021-02-26T14:15:33.780502",
     "status": "completed"
    },
    "tags": []
   },
   "outputs": [
    {
     "data": {
      "text/html": [
       "<div>\n",
       "<style scoped>\n",
       "    .dataframe tbody tr th:only-of-type {\n",
       "        vertical-align: middle;\n",
       "    }\n",
       "\n",
       "    .dataframe tbody tr th {\n",
       "        vertical-align: top;\n",
       "    }\n",
       "\n",
       "    .dataframe thead th {\n",
       "        text-align: right;\n",
       "    }\n",
       "</style>\n",
       "<table border=\"1\" class=\"dataframe\">\n",
       "  <thead>\n",
       "    <tr style=\"text-align: right;\">\n",
       "      <th></th>\n",
       "      <th>Season</th>\n",
       "      <th>DayNum</th>\n",
       "      <th>WTeamID</th>\n",
       "      <th>WScore</th>\n",
       "      <th>LTeamID</th>\n",
       "      <th>LScore</th>\n",
       "      <th>Round</th>\n",
       "      <th>SeedW</th>\n",
       "      <th>SeedL</th>\n",
       "      <th>WinRatioW</th>\n",
       "      <th>GapAvgW</th>\n",
       "      <th>WinRatioL</th>\n",
       "      <th>GapAvgL</th>\n",
       "    </tr>\n",
       "  </thead>\n",
       "  <tbody>\n",
       "    <tr>\n",
       "      <th>0</th>\n",
       "      <td>2003</td>\n",
       "      <td>134</td>\n",
       "      <td>1421</td>\n",
       "      <td>92</td>\n",
       "      <td>1411</td>\n",
       "      <td>84</td>\n",
       "      <td>0</td>\n",
       "      <td>16</td>\n",
       "      <td>16</td>\n",
       "      <td>0.448276</td>\n",
       "      <td>-7.241379</td>\n",
       "      <td>0.600000</td>\n",
       "      <td>1.966667</td>\n",
       "    </tr>\n",
       "    <tr>\n",
       "      <th>1</th>\n",
       "      <td>2003</td>\n",
       "      <td>136</td>\n",
       "      <td>1112</td>\n",
       "      <td>80</td>\n",
       "      <td>1436</td>\n",
       "      <td>51</td>\n",
       "      <td>0</td>\n",
       "      <td>1</td>\n",
       "      <td>16</td>\n",
       "      <td>0.892857</td>\n",
       "      <td>14.964286</td>\n",
       "      <td>0.655172</td>\n",
       "      <td>4.655172</td>\n",
       "    </tr>\n",
       "    <tr>\n",
       "      <th>2</th>\n",
       "      <td>2003</td>\n",
       "      <td>136</td>\n",
       "      <td>1113</td>\n",
       "      <td>84</td>\n",
       "      <td>1272</td>\n",
       "      <td>71</td>\n",
       "      <td>0</td>\n",
       "      <td>10</td>\n",
       "      <td>7</td>\n",
       "      <td>0.620690</td>\n",
       "      <td>6.793103</td>\n",
       "      <td>0.793103</td>\n",
       "      <td>8.689655</td>\n",
       "    </tr>\n",
       "    <tr>\n",
       "      <th>3</th>\n",
       "      <td>2003</td>\n",
       "      <td>136</td>\n",
       "      <td>1141</td>\n",
       "      <td>79</td>\n",
       "      <td>1166</td>\n",
       "      <td>73</td>\n",
       "      <td>0</td>\n",
       "      <td>11</td>\n",
       "      <td>6</td>\n",
       "      <td>0.793103</td>\n",
       "      <td>6.103448</td>\n",
       "      <td>0.878788</td>\n",
       "      <td>14.909091</td>\n",
       "    </tr>\n",
       "    <tr>\n",
       "      <th>4</th>\n",
       "      <td>2003</td>\n",
       "      <td>136</td>\n",
       "      <td>1143</td>\n",
       "      <td>76</td>\n",
       "      <td>1301</td>\n",
       "      <td>74</td>\n",
       "      <td>0</td>\n",
       "      <td>8</td>\n",
       "      <td>9</td>\n",
       "      <td>0.724138</td>\n",
       "      <td>4.724138</td>\n",
       "      <td>0.600000</td>\n",
       "      <td>4.400000</td>\n",
       "    </tr>\n",
       "  </tbody>\n",
       "</table>\n",
       "</div>"
      ],
      "text/plain": [
       "   Season  DayNum  WTeamID  WScore  LTeamID  LScore  Round  SeedW  SeedL  \\\n",
       "0    2003     134     1421      92     1411      84      0     16     16   \n",
       "1    2003     136     1112      80     1436      51      0      1     16   \n",
       "2    2003     136     1113      84     1272      71      0     10      7   \n",
       "3    2003     136     1141      79     1166      73      0     11      6   \n",
       "4    2003     136     1143      76     1301      74      0      8      9   \n",
       "\n",
       "   WinRatioW    GapAvgW  WinRatioL    GapAvgL  \n",
       "0   0.448276  -7.241379   0.600000   1.966667  \n",
       "1   0.892857  14.964286   0.655172   4.655172  \n",
       "2   0.620690   6.793103   0.793103   8.689655  \n",
       "3   0.793103   6.103448   0.878788  14.909091  \n",
       "4   0.724138   4.724138   0.600000   4.400000  "
      ]
     },
     "execution_count": 35,
     "metadata": {},
     "output_type": "execute_result"
    }
   ],
   "source": [
    "df.head()"
   ]
  },
  {
   "cell_type": "markdown",
   "metadata": {
    "papermill": {
     "duration": 0.055669,
     "end_time": "2021-02-26T14:15:33.969328",
     "exception": false,
     "start_time": "2021-02-26T14:15:33.913659",
     "status": "completed"
    },
    "tags": []
   },
   "source": [
    "### Ratings\n",
    "- `OrdinalRankW` is the average Massey Ranking of the winning team\n",
    "- `OrdinalRankL` is the average Massey Ranking of the  losing team"
   ]
  },
  {
   "cell_type": "code",
   "execution_count": 36,
   "metadata": {
    "execution": {
     "iopub.execute_input": "2021-02-26T14:15:34.085814Z",
     "iopub.status.busy": "2021-02-26T14:15:34.084904Z",
     "iopub.status.idle": "2021-02-26T14:15:34.153476Z",
     "shell.execute_reply": "2021-02-26T14:15:34.152891Z"
    },
    "papermill": {
     "duration": 0.128562,
     "end_time": "2021-02-26T14:15:34.153647",
     "exception": false,
     "start_time": "2021-02-26T14:15:34.025085",
     "status": "completed"
    },
    "tags": []
   },
   "outputs": [],
   "source": [
    "avg_ranking = df_massey.groupby(['Season', 'TeamID']).mean().reset_index()"
   ]
  },
  {
   "cell_type": "code",
   "execution_count": 37,
   "metadata": {
    "execution": {
     "iopub.execute_input": "2021-02-26T14:15:34.271614Z",
     "iopub.status.busy": "2021-02-26T14:15:34.270602Z",
     "iopub.status.idle": "2021-02-26T14:15:34.273667Z",
     "shell.execute_reply": "2021-02-26T14:15:34.274120Z"
    },
    "papermill": {
     "duration": 0.063776,
     "end_time": "2021-02-26T14:15:34.274302",
     "exception": false,
     "start_time": "2021-02-26T14:15:34.210526",
     "status": "completed"
    },
    "tags": []
   },
   "outputs": [],
   "source": [
    "# df = pd.merge(\n",
    "#     df,\n",
    "#     avg_ranking,\n",
    "#     how='left',\n",
    "#     left_on=['Season', 'WTeamID'],\n",
    "#     right_on=['Season', 'TeamID']\n",
    "# ).drop('TeamID', axis=1).rename(columns={'OrdinalRank': 'OrdinalRankW'})"
   ]
  },
  {
   "cell_type": "code",
   "execution_count": 38,
   "metadata": {
    "execution": {
     "iopub.execute_input": "2021-02-26T14:15:34.394568Z",
     "iopub.status.busy": "2021-02-26T14:15:34.393526Z",
     "iopub.status.idle": "2021-02-26T14:15:34.397165Z",
     "shell.execute_reply": "2021-02-26T14:15:34.396552Z"
    },
    "papermill": {
     "duration": 0.065557,
     "end_time": "2021-02-26T14:15:34.397314",
     "exception": false,
     "start_time": "2021-02-26T14:15:34.331757",
     "status": "completed"
    },
    "tags": []
   },
   "outputs": [],
   "source": [
    "# df = pd.merge(\n",
    "#     df, \n",
    "#     avg_ranking, \n",
    "#     how='left', \n",
    "#     left_on=['Season', 'LTeamID'], \n",
    "#     right_on=['Season', 'TeamID']\n",
    "# ).drop('TeamID', axis=1).rename(columns={'OrdinalRank': 'OrdinalRankL'})"
   ]
  },
  {
   "cell_type": "code",
   "execution_count": 39,
   "metadata": {
    "execution": {
     "iopub.execute_input": "2021-02-26T14:15:34.528538Z",
     "iopub.status.busy": "2021-02-26T14:15:34.527492Z",
     "iopub.status.idle": "2021-02-26T14:15:34.532190Z",
     "shell.execute_reply": "2021-02-26T14:15:34.531548Z"
    },
    "papermill": {
     "duration": 0.077458,
     "end_time": "2021-02-26T14:15:34.532351",
     "exception": false,
     "start_time": "2021-02-26T14:15:34.454893",
     "status": "completed"
    },
    "tags": []
   },
   "outputs": [
    {
     "data": {
      "text/html": [
       "<div>\n",
       "<style scoped>\n",
       "    .dataframe tbody tr th:only-of-type {\n",
       "        vertical-align: middle;\n",
       "    }\n",
       "\n",
       "    .dataframe tbody tr th {\n",
       "        vertical-align: top;\n",
       "    }\n",
       "\n",
       "    .dataframe thead th {\n",
       "        text-align: right;\n",
       "    }\n",
       "</style>\n",
       "<table border=\"1\" class=\"dataframe\">\n",
       "  <thead>\n",
       "    <tr style=\"text-align: right;\">\n",
       "      <th></th>\n",
       "      <th>Season</th>\n",
       "      <th>DayNum</th>\n",
       "      <th>WTeamID</th>\n",
       "      <th>WScore</th>\n",
       "      <th>LTeamID</th>\n",
       "      <th>LScore</th>\n",
       "      <th>Round</th>\n",
       "      <th>SeedW</th>\n",
       "      <th>SeedL</th>\n",
       "      <th>WinRatioW</th>\n",
       "      <th>GapAvgW</th>\n",
       "      <th>WinRatioL</th>\n",
       "      <th>GapAvgL</th>\n",
       "    </tr>\n",
       "  </thead>\n",
       "  <tbody>\n",
       "    <tr>\n",
       "      <th>0</th>\n",
       "      <td>2003</td>\n",
       "      <td>134</td>\n",
       "      <td>1421</td>\n",
       "      <td>92</td>\n",
       "      <td>1411</td>\n",
       "      <td>84</td>\n",
       "      <td>0</td>\n",
       "      <td>16</td>\n",
       "      <td>16</td>\n",
       "      <td>0.448276</td>\n",
       "      <td>-7.241379</td>\n",
       "      <td>0.600000</td>\n",
       "      <td>1.966667</td>\n",
       "    </tr>\n",
       "    <tr>\n",
       "      <th>1</th>\n",
       "      <td>2003</td>\n",
       "      <td>136</td>\n",
       "      <td>1112</td>\n",
       "      <td>80</td>\n",
       "      <td>1436</td>\n",
       "      <td>51</td>\n",
       "      <td>0</td>\n",
       "      <td>1</td>\n",
       "      <td>16</td>\n",
       "      <td>0.892857</td>\n",
       "      <td>14.964286</td>\n",
       "      <td>0.655172</td>\n",
       "      <td>4.655172</td>\n",
       "    </tr>\n",
       "    <tr>\n",
       "      <th>2</th>\n",
       "      <td>2003</td>\n",
       "      <td>136</td>\n",
       "      <td>1113</td>\n",
       "      <td>84</td>\n",
       "      <td>1272</td>\n",
       "      <td>71</td>\n",
       "      <td>0</td>\n",
       "      <td>10</td>\n",
       "      <td>7</td>\n",
       "      <td>0.620690</td>\n",
       "      <td>6.793103</td>\n",
       "      <td>0.793103</td>\n",
       "      <td>8.689655</td>\n",
       "    </tr>\n",
       "    <tr>\n",
       "      <th>3</th>\n",
       "      <td>2003</td>\n",
       "      <td>136</td>\n",
       "      <td>1141</td>\n",
       "      <td>79</td>\n",
       "      <td>1166</td>\n",
       "      <td>73</td>\n",
       "      <td>0</td>\n",
       "      <td>11</td>\n",
       "      <td>6</td>\n",
       "      <td>0.793103</td>\n",
       "      <td>6.103448</td>\n",
       "      <td>0.878788</td>\n",
       "      <td>14.909091</td>\n",
       "    </tr>\n",
       "    <tr>\n",
       "      <th>4</th>\n",
       "      <td>2003</td>\n",
       "      <td>136</td>\n",
       "      <td>1143</td>\n",
       "      <td>76</td>\n",
       "      <td>1301</td>\n",
       "      <td>74</td>\n",
       "      <td>0</td>\n",
       "      <td>8</td>\n",
       "      <td>9</td>\n",
       "      <td>0.724138</td>\n",
       "      <td>4.724138</td>\n",
       "      <td>0.600000</td>\n",
       "      <td>4.400000</td>\n",
       "    </tr>\n",
       "  </tbody>\n",
       "</table>\n",
       "</div>"
      ],
      "text/plain": [
       "   Season  DayNum  WTeamID  WScore  LTeamID  LScore  Round  SeedW  SeedL  \\\n",
       "0    2003     134     1421      92     1411      84      0     16     16   \n",
       "1    2003     136     1112      80     1436      51      0      1     16   \n",
       "2    2003     136     1113      84     1272      71      0     10      7   \n",
       "3    2003     136     1141      79     1166      73      0     11      6   \n",
       "4    2003     136     1143      76     1301      74      0      8      9   \n",
       "\n",
       "   WinRatioW    GapAvgW  WinRatioL    GapAvgL  \n",
       "0   0.448276  -7.241379   0.600000   1.966667  \n",
       "1   0.892857  14.964286   0.655172   4.655172  \n",
       "2   0.620690   6.793103   0.793103   8.689655  \n",
       "3   0.793103   6.103448   0.878788  14.909091  \n",
       "4   0.724138   4.724138   0.600000   4.400000  "
      ]
     },
     "execution_count": 39,
     "metadata": {},
     "output_type": "execute_result"
    }
   ],
   "source": [
    "df.head()"
   ]
  },
  {
   "cell_type": "markdown",
   "metadata": {
    "papermill": {
     "duration": 0.058218,
     "end_time": "2021-02-26T14:15:34.649608",
     "exception": false,
     "start_time": "2021-02-26T14:15:34.591390",
     "status": "completed"
    },
    "tags": []
   },
   "source": [
    "### Add symetrical\n",
    "- Right now our data only consists of won matches\n",
    "- We duplicate our data, get rid of the winner loser "
   ]
  },
  {
   "cell_type": "code",
   "execution_count": 40,
   "metadata": {
    "execution": {
     "iopub.execute_input": "2021-02-26T14:15:34.775838Z",
     "iopub.status.busy": "2021-02-26T14:15:34.775046Z",
     "iopub.status.idle": "2021-02-26T14:15:34.778525Z",
     "shell.execute_reply": "2021-02-26T14:15:34.777881Z"
    },
    "papermill": {
     "duration": 0.070818,
     "end_time": "2021-02-26T14:15:34.778725",
     "exception": false,
     "start_time": "2021-02-26T14:15:34.707907",
     "status": "completed"
    },
    "tags": []
   },
   "outputs": [],
   "source": [
    "def add_loosing_matches(win_df):\n",
    "    win_rename = {\n",
    "        \"WTeamID\": \"TeamIdA\", \n",
    "        \"WScore\" : \"ScoreA\", \n",
    "        \"LTeamID\" : \"TeamIdB\",\n",
    "        \"LScore\": \"ScoreB\",\n",
    "        \"SeedW\": \"SeedA\", \n",
    "        \"SeedL\": \"SeedB\",\n",
    "        'WinRatioW' : 'WinRatioA',\n",
    "        'WinRatioL' : 'WinRatioB',\n",
    "        'GapAvgW' : 'GapAvgA',\n",
    "        'GapAvgL' : 'GapAvgB',\n",
    "#         \"OrdinalRankW\": \"OrdinalRankA\",\n",
    "#         \"OrdinalRankL\": \"OrdinalRankB\",\n",
    "     }\n",
    "    \n",
    "    lose_rename = {\n",
    "        \"WTeamID\": \"TeamIdB\", \n",
    "        \"WScore\" : \"ScoreB\", \n",
    "        \"LTeamID\" : \"TeamIdA\",\n",
    "        \"LScore\": \"ScoreA\",\n",
    "        \"SeedW\": \"SeedB\", \n",
    "        \"SeedL\": \"SeedA\",\n",
    "        'GapAvgW' : 'GapAvgB',\n",
    "        'GapAvgL' : 'GapAvgA',\n",
    "        'WinRatioW' : 'WinRatioB',\n",
    "        'WinRatioL' : 'WinRatioA',\n",
    "#         \"OrdinalRankW\": \"OrdinalRankB\",\n",
    "#         \"OrdinalRankL\": \"OrdinalRankA\",\n",
    "    }\n",
    "    \n",
    "    win_df = win_df.copy()\n",
    "    lose_df = win_df.copy()\n",
    "    \n",
    "    win_df = win_df.rename(columns=win_rename)\n",
    "    lose_df = lose_df.rename(columns=lose_rename)\n",
    "    \n",
    "    return pd.concat([win_df, lose_df], 0, sort=False)"
   ]
  },
  {
   "cell_type": "code",
   "execution_count": 41,
   "metadata": {
    "execution": {
     "iopub.execute_input": "2021-02-26T14:15:34.902957Z",
     "iopub.status.busy": "2021-02-26T14:15:34.900189Z",
     "iopub.status.idle": "2021-02-26T14:15:34.905129Z",
     "shell.execute_reply": "2021-02-26T14:15:34.905763Z"
    },
    "papermill": {
     "duration": 0.068899,
     "end_time": "2021-02-26T14:15:34.905958",
     "exception": false,
     "start_time": "2021-02-26T14:15:34.837059",
     "status": "completed"
    },
    "tags": []
   },
   "outputs": [
    {
     "name": "stderr",
     "output_type": "stream",
     "text": [
      "C:\\Users\\yizha\\AppData\\Local\\Temp\\ipykernel_10944\\1722625647.py:38: FutureWarning: In a future version of pandas all arguments of concat except for the argument 'objs' will be keyword-only\n",
      "  return pd.concat([win_df, lose_df], 0, sort=False)\n"
     ]
    }
   ],
   "source": [
    "df = add_loosing_matches(df)"
   ]
  },
  {
   "cell_type": "markdown",
   "metadata": {
    "papermill": {
     "duration": 0.057626,
     "end_time": "2021-02-26T14:15:35.022893",
     "exception": false,
     "start_time": "2021-02-26T14:15:34.965267",
     "status": "completed"
    },
    "tags": []
   },
   "source": [
    "### Differences\n",
    "- We compute the difference between the team for each feature.\n",
    "- This helps further assessing how better (or worse) team A is from team B"
   ]
  },
  {
   "cell_type": "code",
   "execution_count": 42,
   "metadata": {
    "execution": {
     "iopub.execute_input": "2021-02-26T14:15:35.143503Z",
     "iopub.status.busy": "2021-02-26T14:15:35.142761Z",
     "iopub.status.idle": "2021-02-26T14:15:35.150814Z",
     "shell.execute_reply": "2021-02-26T14:15:35.151307Z"
    },
    "papermill": {
     "duration": 0.071602,
     "end_time": "2021-02-26T14:15:35.151522",
     "exception": false,
     "start_time": "2021-02-26T14:15:35.079920",
     "status": "completed"
    },
    "tags": []
   },
   "outputs": [],
   "source": [
    "df['SeedDiff'] = df['SeedA'] - df['SeedB']\n",
    "df['WinRatioDiff'] = df['WinRatioA'] - df['WinRatioB']\n",
    "df['GapAvgDiff'] = df['GapAvgA'] - df['GapAvgB']\n",
    "# df['OrdinalRankDiff'] = df['OrdinalRankA'] - df['OrdinalRankB']"
   ]
  },
  {
   "cell_type": "code",
   "execution_count": 43,
   "metadata": {
    "execution": {
     "iopub.execute_input": "2021-02-26T14:15:35.280405Z",
     "iopub.status.busy": "2021-02-26T14:15:35.279644Z",
     "iopub.status.idle": "2021-02-26T14:15:35.297916Z",
     "shell.execute_reply": "2021-02-26T14:15:35.298438Z"
    },
    "papermill": {
     "duration": 0.08371,
     "end_time": "2021-02-26T14:15:35.298652",
     "exception": false,
     "start_time": "2021-02-26T14:15:35.214942",
     "status": "completed"
    },
    "tags": []
   },
   "outputs": [
    {
     "data": {
      "text/html": [
       "<div>\n",
       "<style scoped>\n",
       "    .dataframe tbody tr th:only-of-type {\n",
       "        vertical-align: middle;\n",
       "    }\n",
       "\n",
       "    .dataframe tbody tr th {\n",
       "        vertical-align: top;\n",
       "    }\n",
       "\n",
       "    .dataframe thead th {\n",
       "        text-align: right;\n",
       "    }\n",
       "</style>\n",
       "<table border=\"1\" class=\"dataframe\">\n",
       "  <thead>\n",
       "    <tr style=\"text-align: right;\">\n",
       "      <th></th>\n",
       "      <th>Season</th>\n",
       "      <th>DayNum</th>\n",
       "      <th>TeamIdA</th>\n",
       "      <th>ScoreA</th>\n",
       "      <th>TeamIdB</th>\n",
       "      <th>ScoreB</th>\n",
       "      <th>Round</th>\n",
       "      <th>SeedA</th>\n",
       "      <th>SeedB</th>\n",
       "      <th>WinRatioA</th>\n",
       "      <th>GapAvgA</th>\n",
       "      <th>WinRatioB</th>\n",
       "      <th>GapAvgB</th>\n",
       "      <th>SeedDiff</th>\n",
       "      <th>WinRatioDiff</th>\n",
       "      <th>GapAvgDiff</th>\n",
       "    </tr>\n",
       "  </thead>\n",
       "  <tbody>\n",
       "    <tr>\n",
       "      <th>0</th>\n",
       "      <td>2003</td>\n",
       "      <td>134</td>\n",
       "      <td>1421</td>\n",
       "      <td>92</td>\n",
       "      <td>1411</td>\n",
       "      <td>84</td>\n",
       "      <td>0</td>\n",
       "      <td>16</td>\n",
       "      <td>16</td>\n",
       "      <td>0.448276</td>\n",
       "      <td>-7.241379</td>\n",
       "      <td>0.600000</td>\n",
       "      <td>1.966667</td>\n",
       "      <td>0</td>\n",
       "      <td>-0.151724</td>\n",
       "      <td>-9.208046</td>\n",
       "    </tr>\n",
       "    <tr>\n",
       "      <th>1</th>\n",
       "      <td>2003</td>\n",
       "      <td>136</td>\n",
       "      <td>1112</td>\n",
       "      <td>80</td>\n",
       "      <td>1436</td>\n",
       "      <td>51</td>\n",
       "      <td>0</td>\n",
       "      <td>1</td>\n",
       "      <td>16</td>\n",
       "      <td>0.892857</td>\n",
       "      <td>14.964286</td>\n",
       "      <td>0.655172</td>\n",
       "      <td>4.655172</td>\n",
       "      <td>-15</td>\n",
       "      <td>0.237685</td>\n",
       "      <td>10.309113</td>\n",
       "    </tr>\n",
       "    <tr>\n",
       "      <th>2</th>\n",
       "      <td>2003</td>\n",
       "      <td>136</td>\n",
       "      <td>1113</td>\n",
       "      <td>84</td>\n",
       "      <td>1272</td>\n",
       "      <td>71</td>\n",
       "      <td>0</td>\n",
       "      <td>10</td>\n",
       "      <td>7</td>\n",
       "      <td>0.620690</td>\n",
       "      <td>6.793103</td>\n",
       "      <td>0.793103</td>\n",
       "      <td>8.689655</td>\n",
       "      <td>3</td>\n",
       "      <td>-0.172414</td>\n",
       "      <td>-1.896552</td>\n",
       "    </tr>\n",
       "    <tr>\n",
       "      <th>3</th>\n",
       "      <td>2003</td>\n",
       "      <td>136</td>\n",
       "      <td>1141</td>\n",
       "      <td>79</td>\n",
       "      <td>1166</td>\n",
       "      <td>73</td>\n",
       "      <td>0</td>\n",
       "      <td>11</td>\n",
       "      <td>6</td>\n",
       "      <td>0.793103</td>\n",
       "      <td>6.103448</td>\n",
       "      <td>0.878788</td>\n",
       "      <td>14.909091</td>\n",
       "      <td>5</td>\n",
       "      <td>-0.085684</td>\n",
       "      <td>-8.805643</td>\n",
       "    </tr>\n",
       "    <tr>\n",
       "      <th>4</th>\n",
       "      <td>2003</td>\n",
       "      <td>136</td>\n",
       "      <td>1143</td>\n",
       "      <td>76</td>\n",
       "      <td>1301</td>\n",
       "      <td>74</td>\n",
       "      <td>0</td>\n",
       "      <td>8</td>\n",
       "      <td>9</td>\n",
       "      <td>0.724138</td>\n",
       "      <td>4.724138</td>\n",
       "      <td>0.600000</td>\n",
       "      <td>4.400000</td>\n",
       "      <td>-1</td>\n",
       "      <td>0.124138</td>\n",
       "      <td>0.324138</td>\n",
       "    </tr>\n",
       "  </tbody>\n",
       "</table>\n",
       "</div>"
      ],
      "text/plain": [
       "   Season  DayNum  TeamIdA  ScoreA  TeamIdB  ScoreB  Round  SeedA  SeedB  \\\n",
       "0    2003     134     1421      92     1411      84      0     16     16   \n",
       "1    2003     136     1112      80     1436      51      0      1     16   \n",
       "2    2003     136     1113      84     1272      71      0     10      7   \n",
       "3    2003     136     1141      79     1166      73      0     11      6   \n",
       "4    2003     136     1143      76     1301      74      0      8      9   \n",
       "\n",
       "   WinRatioA    GapAvgA  WinRatioB    GapAvgB  SeedDiff  WinRatioDiff  \\\n",
       "0   0.448276  -7.241379   0.600000   1.966667         0     -0.151724   \n",
       "1   0.892857  14.964286   0.655172   4.655172       -15      0.237685   \n",
       "2   0.620690   6.793103   0.793103   8.689655         3     -0.172414   \n",
       "3   0.793103   6.103448   0.878788  14.909091         5     -0.085684   \n",
       "4   0.724138   4.724138   0.600000   4.400000        -1      0.124138   \n",
       "\n",
       "   GapAvgDiff  \n",
       "0   -9.208046  \n",
       "1   10.309113  \n",
       "2   -1.896552  \n",
       "3   -8.805643  \n",
       "4    0.324138  "
      ]
     },
     "execution_count": 43,
     "metadata": {},
     "output_type": "execute_result"
    }
   ],
   "source": [
    "df.head()"
   ]
  },
  {
   "cell_type": "markdown",
   "metadata": {
    "papermill": {
     "duration": 0.060265,
     "end_time": "2021-02-26T14:15:35.419972",
     "exception": false,
     "start_time": "2021-02-26T14:15:35.359707",
     "status": "completed"
    },
    "tags": []
   },
   "source": [
    "## Test Data"
   ]
  },
  {
   "cell_type": "markdown",
   "metadata": {
    "papermill": {
     "duration": 0.060165,
     "end_time": "2021-02-26T14:15:35.541034",
     "exception": false,
     "start_time": "2021-02-26T14:15:35.480869",
     "status": "completed"
    },
    "tags": []
   },
   "source": [
    "### Preparing"
   ]
  },
  {
   "cell_type": "code",
   "execution_count": 45,
   "metadata": {
    "execution": {
     "iopub.execute_input": "2021-02-26T14:15:35.667718Z",
     "iopub.status.busy": "2021-02-26T14:15:35.666987Z",
     "iopub.status.idle": "2021-02-26T14:15:35.688143Z",
     "shell.execute_reply": "2021-02-26T14:15:35.688746Z"
    },
    "papermill": {
     "duration": 0.086024,
     "end_time": "2021-02-26T14:15:35.688955",
     "exception": false,
     "start_time": "2021-02-26T14:15:35.602931",
     "status": "completed"
    },
    "tags": []
   },
   "outputs": [],
   "source": [
    "# df_test = pd.read_csv(DATA_PATH + \"MSampleSubmissionStage1.csv\")\n",
    "df_test = pd.read_csv(DATA_PATH + \"MSampleSubmissionStage2.csv\")"
   ]
  },
  {
   "cell_type": "code",
   "execution_count": 46,
   "metadata": {
    "execution": {
     "iopub.execute_input": "2021-02-26T14:15:35.813789Z",
     "iopub.status.busy": "2021-02-26T14:15:35.813037Z",
     "iopub.status.idle": "2021-02-26T14:15:35.856145Z",
     "shell.execute_reply": "2021-02-26T14:15:35.856732Z"
    },
    "papermill": {
     "duration": 0.107421,
     "end_time": "2021-02-26T14:15:35.856955",
     "exception": false,
     "start_time": "2021-02-26T14:15:35.749534",
     "status": "completed"
    },
    "tags": []
   },
   "outputs": [],
   "source": [
    "df_test['Season'] = df_test['ID'].apply(lambda x: int(x.split('_')[0]))\n",
    "df_test['TeamIdA'] = df_test['ID'].apply(lambda x: int(x.split('_')[1]))\n",
    "df_test['TeamIdB'] = df_test['ID'].apply(lambda x: int(x.split('_')[2]))"
   ]
  },
  {
   "cell_type": "code",
   "execution_count": 47,
   "metadata": {
    "execution": {
     "iopub.execute_input": "2021-02-26T14:15:35.986343Z",
     "iopub.status.busy": "2021-02-26T14:15:35.985632Z",
     "iopub.status.idle": "2021-02-26T14:15:35.997526Z",
     "shell.execute_reply": "2021-02-26T14:15:35.998140Z"
    },
    "papermill": {
     "duration": 0.080871,
     "end_time": "2021-02-26T14:15:35.998346",
     "exception": false,
     "start_time": "2021-02-26T14:15:35.917475",
     "status": "completed"
    },
    "tags": []
   },
   "outputs": [
    {
     "data": {
      "text/html": [
       "<div>\n",
       "<style scoped>\n",
       "    .dataframe tbody tr th:only-of-type {\n",
       "        vertical-align: middle;\n",
       "    }\n",
       "\n",
       "    .dataframe tbody tr th {\n",
       "        vertical-align: top;\n",
       "    }\n",
       "\n",
       "    .dataframe thead th {\n",
       "        text-align: right;\n",
       "    }\n",
       "</style>\n",
       "<table border=\"1\" class=\"dataframe\">\n",
       "  <thead>\n",
       "    <tr style=\"text-align: right;\">\n",
       "      <th></th>\n",
       "      <th>ID</th>\n",
       "      <th>Pred</th>\n",
       "      <th>Season</th>\n",
       "      <th>TeamIdA</th>\n",
       "      <th>TeamIdB</th>\n",
       "    </tr>\n",
       "  </thead>\n",
       "  <tbody>\n",
       "    <tr>\n",
       "      <th>0</th>\n",
       "      <td>2022_1103_1104</td>\n",
       "      <td>0.5</td>\n",
       "      <td>2022</td>\n",
       "      <td>1103</td>\n",
       "      <td>1104</td>\n",
       "    </tr>\n",
       "    <tr>\n",
       "      <th>1</th>\n",
       "      <td>2022_1103_1112</td>\n",
       "      <td>0.5</td>\n",
       "      <td>2022</td>\n",
       "      <td>1103</td>\n",
       "      <td>1112</td>\n",
       "    </tr>\n",
       "    <tr>\n",
       "      <th>2</th>\n",
       "      <td>2022_1103_1116</td>\n",
       "      <td>0.5</td>\n",
       "      <td>2022</td>\n",
       "      <td>1103</td>\n",
       "      <td>1116</td>\n",
       "    </tr>\n",
       "    <tr>\n",
       "      <th>3</th>\n",
       "      <td>2022_1103_1120</td>\n",
       "      <td>0.5</td>\n",
       "      <td>2022</td>\n",
       "      <td>1103</td>\n",
       "      <td>1120</td>\n",
       "    </tr>\n",
       "    <tr>\n",
       "      <th>4</th>\n",
       "      <td>2022_1103_1124</td>\n",
       "      <td>0.5</td>\n",
       "      <td>2022</td>\n",
       "      <td>1103</td>\n",
       "      <td>1124</td>\n",
       "    </tr>\n",
       "  </tbody>\n",
       "</table>\n",
       "</div>"
      ],
      "text/plain": [
       "               ID  Pred  Season  TeamIdA  TeamIdB\n",
       "0  2022_1103_1104   0.5    2022     1103     1104\n",
       "1  2022_1103_1112   0.5    2022     1103     1112\n",
       "2  2022_1103_1116   0.5    2022     1103     1116\n",
       "3  2022_1103_1120   0.5    2022     1103     1120\n",
       "4  2022_1103_1124   0.5    2022     1103     1124"
      ]
     },
     "execution_count": 47,
     "metadata": {},
     "output_type": "execute_result"
    }
   ],
   "source": [
    "df_test.head()"
   ]
  },
  {
   "cell_type": "markdown",
   "metadata": {
    "papermill": {
     "duration": 0.061612,
     "end_time": "2021-02-26T14:15:36.123520",
     "exception": false,
     "start_time": "2021-02-26T14:15:36.061908",
     "status": "completed"
    },
    "tags": []
   },
   "source": [
    "### Seeds"
   ]
  },
  {
   "cell_type": "code",
   "execution_count": 48,
   "metadata": {
    "execution": {
     "iopub.execute_input": "2021-02-26T14:15:36.246548Z",
     "iopub.status.busy": "2021-02-26T14:15:36.245859Z",
     "iopub.status.idle": "2021-02-26T14:15:36.259267Z",
     "shell.execute_reply": "2021-02-26T14:15:36.259829Z"
    },
    "papermill": {
     "duration": 0.076371,
     "end_time": "2021-02-26T14:15:36.260045",
     "exception": false,
     "start_time": "2021-02-26T14:15:36.183674",
     "status": "completed"
    },
    "tags": []
   },
   "outputs": [],
   "source": [
    "df_test = pd.merge(\n",
    "    df_test,\n",
    "    df_seeds,\n",
    "    how='left',\n",
    "    left_on=['Season', 'TeamIdA'],\n",
    "    right_on=['Season', 'TeamID']\n",
    ").drop('TeamID', axis=1).rename(columns={'Seed': 'SeedA'})"
   ]
  },
  {
   "cell_type": "code",
   "execution_count": 49,
   "metadata": {
    "execution": {
     "iopub.execute_input": "2021-02-26T14:15:36.385584Z",
     "iopub.status.busy": "2021-02-26T14:15:36.384865Z",
     "iopub.status.idle": "2021-02-26T14:15:36.398960Z",
     "shell.execute_reply": "2021-02-26T14:15:36.399487Z"
    },
    "papermill": {
     "duration": 0.078719,
     "end_time": "2021-02-26T14:15:36.399692",
     "exception": false,
     "start_time": "2021-02-26T14:15:36.320973",
     "status": "completed"
    },
    "tags": []
   },
   "outputs": [],
   "source": [
    "df_test = pd.merge(\n",
    "    df_test, \n",
    "    df_seeds, \n",
    "    how='left', \n",
    "    left_on=['Season', 'TeamIdB'], \n",
    "    right_on=['Season', 'TeamID']\n",
    ").drop('TeamID', axis=1).rename(columns={'Seed': 'SeedB'})"
   ]
  },
  {
   "cell_type": "code",
   "execution_count": 50,
   "metadata": {
    "execution": {
     "iopub.execute_input": "2021-02-26T14:15:36.530451Z",
     "iopub.status.busy": "2021-02-26T14:15:36.529667Z",
     "iopub.status.idle": "2021-02-26T14:15:36.588433Z",
     "shell.execute_reply": "2021-02-26T14:15:36.589031Z"
    },
    "papermill": {
     "duration": 0.125271,
     "end_time": "2021-02-26T14:15:36.589230",
     "exception": false,
     "start_time": "2021-02-26T14:15:36.463959",
     "status": "completed"
    },
    "tags": []
   },
   "outputs": [],
   "source": [
    "df_test['SeedA'] = df_test['SeedA'].apply(treat_seed)\n",
    "df_test['SeedB'] = df_test['SeedB'].apply(treat_seed)"
   ]
  },
  {
   "cell_type": "markdown",
   "metadata": {
    "papermill": {
     "duration": 0.060232,
     "end_time": "2021-02-26T14:15:36.712952",
     "exception": false,
     "start_time": "2021-02-26T14:15:36.652720",
     "status": "completed"
    },
    "tags": []
   },
   "source": [
    "### Season Stats"
   ]
  },
  {
   "cell_type": "code",
   "execution_count": 51,
   "metadata": {
    "execution": {
     "iopub.execute_input": "2021-02-26T14:15:36.845997Z",
     "iopub.status.busy": "2021-02-26T14:15:36.845257Z",
     "iopub.status.idle": "2021-02-26T14:15:36.859920Z",
     "shell.execute_reply": "2021-02-26T14:15:36.860481Z"
    },
    "papermill": {
     "duration": 0.081603,
     "end_time": "2021-02-26T14:15:36.860689",
     "exception": false,
     "start_time": "2021-02-26T14:15:36.779086",
     "status": "completed"
    },
    "tags": []
   },
   "outputs": [],
   "source": [
    "df_test = pd.merge(\n",
    "    df_test,\n",
    "    df_features_season,\n",
    "    how='left',\n",
    "    left_on=['Season', 'TeamIdA'],\n",
    "    right_on=['Season', 'TeamID']\n",
    ").rename(columns={\n",
    "    'NumWins': 'NumWinsA',\n",
    "    'NumLosses': 'NumLossesA',\n",
    "    'GapWins': 'GapWinsA',\n",
    "    'GapLosses': 'GapLossesA',\n",
    "    'WinRatio': 'WinRatioA',\n",
    "    'GapAvg': 'GapAvgA',\n",
    "}).drop(columns='TeamID', axis=1)"
   ]
  },
  {
   "cell_type": "code",
   "execution_count": 52,
   "metadata": {
    "execution": {
     "iopub.execute_input": "2021-02-26T14:15:36.990821Z",
     "iopub.status.busy": "2021-02-26T14:15:36.990022Z",
     "iopub.status.idle": "2021-02-26T14:15:37.007180Z",
     "shell.execute_reply": "2021-02-26T14:15:37.007732Z"
    },
    "papermill": {
     "duration": 0.085361,
     "end_time": "2021-02-26T14:15:37.007942",
     "exception": false,
     "start_time": "2021-02-26T14:15:36.922581",
     "status": "completed"
    },
    "tags": []
   },
   "outputs": [],
   "source": [
    "df_test = pd.merge(\n",
    "    df_test,\n",
    "    df_features_season,\n",
    "    how='left',\n",
    "    left_on=['Season', 'TeamIdB'],\n",
    "    right_on=['Season', 'TeamID']\n",
    ").rename(columns={\n",
    "    'NumWins': 'NumWinsB',\n",
    "    'NumLosses': 'NumLossesB',\n",
    "    'GapWins': 'GapWinsB',\n",
    "    'GapLosses': 'GapLossesB',\n",
    "    'WinRatio': 'WinRatioB',\n",
    "    'GapAvg': 'GapAvgB',\n",
    "}).drop(columns='TeamID', axis=1)"
   ]
  },
  {
   "cell_type": "markdown",
   "metadata": {
    "papermill": {
     "duration": 0.059587,
     "end_time": "2021-02-26T14:15:37.127597",
     "exception": false,
     "start_time": "2021-02-26T14:15:37.068010",
     "status": "completed"
    },
    "tags": []
   },
   "source": [
    "### Ratings"
   ]
  },
  {
   "cell_type": "code",
   "execution_count": 53,
   "metadata": {
    "execution": {
     "iopub.execute_input": "2021-02-26T14:15:37.253014Z",
     "iopub.status.busy": "2021-02-26T14:15:37.251974Z",
     "iopub.status.idle": "2021-02-26T14:15:37.257006Z",
     "shell.execute_reply": "2021-02-26T14:15:37.257585Z"
    },
    "papermill": {
     "duration": 0.069875,
     "end_time": "2021-02-26T14:15:37.257770",
     "exception": false,
     "start_time": "2021-02-26T14:15:37.187895",
     "status": "completed"
    },
    "tags": []
   },
   "outputs": [],
   "source": [
    "# df_test = pd.merge(\n",
    "#     df_test,\n",
    "#     avg_ranking,\n",
    "#     how='left',\n",
    "#     left_on=['Season', 'TeamIdA'],\n",
    "#     right_on=['Season', 'TeamID']\n",
    "# ).drop('TeamID', axis=1).rename(columns={'OrdinalRank': 'OrdinalRankA'})"
   ]
  },
  {
   "cell_type": "code",
   "execution_count": 54,
   "metadata": {
    "execution": {
     "iopub.execute_input": "2021-02-26T14:15:37.381496Z",
     "iopub.status.busy": "2021-02-26T14:15:37.380776Z",
     "iopub.status.idle": "2021-02-26T14:15:37.384398Z",
     "shell.execute_reply": "2021-02-26T14:15:37.384934Z"
    },
    "papermill": {
     "duration": 0.066897,
     "end_time": "2021-02-26T14:15:37.385121",
     "exception": false,
     "start_time": "2021-02-26T14:15:37.318224",
     "status": "completed"
    },
    "tags": []
   },
   "outputs": [],
   "source": [
    "# df_test = pd.merge(\n",
    "#     df_test,\n",
    "#     avg_ranking,\n",
    "#     how='left',\n",
    "#     left_on=['Season', 'TeamIdB'],\n",
    "#     right_on=['Season', 'TeamID']\n",
    "# ).drop('TeamID', axis=1).rename(columns={'OrdinalRank': 'OrdinalRankB'})"
   ]
  },
  {
   "cell_type": "markdown",
   "metadata": {
    "papermill": {
     "duration": 0.060046,
     "end_time": "2021-02-26T14:15:37.506196",
     "exception": false,
     "start_time": "2021-02-26T14:15:37.446150",
     "status": "completed"
    },
    "tags": []
   },
   "source": [
    "### Differences"
   ]
  },
  {
   "cell_type": "code",
   "execution_count": 55,
   "metadata": {
    "execution": {
     "iopub.execute_input": "2021-02-26T14:15:37.655620Z",
     "iopub.status.busy": "2021-02-26T14:15:37.654844Z",
     "iopub.status.idle": "2021-02-26T14:15:37.666660Z",
     "shell.execute_reply": "2021-02-26T14:15:37.666042Z"
    },
    "papermill": {
     "duration": 0.087014,
     "end_time": "2021-02-26T14:15:37.666824",
     "exception": false,
     "start_time": "2021-02-26T14:15:37.579810",
     "status": "completed"
    },
    "tags": []
   },
   "outputs": [],
   "source": [
    "df_test['SeedDiff'] = df_test['SeedA'] - df_test['SeedB']\n",
    "df_test['WinRatioDiff'] = df_test['WinRatioA'] - df_test['WinRatioB']\n",
    "df_test['GapAvgDiff'] = df_test['GapAvgA'] - df_test['GapAvgB']\n",
    "# df_test['OrdinalRankDiff'] = df_test['OrdinalRankA'] - df_test['OrdinalRankB']"
   ]
  },
  {
   "cell_type": "code",
   "execution_count": 56,
   "metadata": {
    "execution": {
     "iopub.execute_input": "2021-02-26T14:15:37.814643Z",
     "iopub.status.busy": "2021-02-26T14:15:37.813592Z",
     "iopub.status.idle": "2021-02-26T14:15:37.826004Z",
     "shell.execute_reply": "2021-02-26T14:15:37.826833Z"
    },
    "papermill": {
     "duration": 0.09344,
     "end_time": "2021-02-26T14:15:37.827104",
     "exception": false,
     "start_time": "2021-02-26T14:15:37.733664",
     "status": "completed"
    },
    "tags": []
   },
   "outputs": [
    {
     "data": {
      "text/html": [
       "<div>\n",
       "<style scoped>\n",
       "    .dataframe tbody tr th:only-of-type {\n",
       "        vertical-align: middle;\n",
       "    }\n",
       "\n",
       "    .dataframe tbody tr th {\n",
       "        vertical-align: top;\n",
       "    }\n",
       "\n",
       "    .dataframe thead th {\n",
       "        text-align: right;\n",
       "    }\n",
       "</style>\n",
       "<table border=\"1\" class=\"dataframe\">\n",
       "  <thead>\n",
       "    <tr style=\"text-align: right;\">\n",
       "      <th></th>\n",
       "      <th>ID</th>\n",
       "      <th>Pred</th>\n",
       "      <th>Season</th>\n",
       "      <th>TeamIdA</th>\n",
       "      <th>TeamIdB</th>\n",
       "      <th>SeedA</th>\n",
       "      <th>SeedB</th>\n",
       "      <th>WinRatioA</th>\n",
       "      <th>GapAvgA</th>\n",
       "      <th>WinRatioB</th>\n",
       "      <th>GapAvgB</th>\n",
       "      <th>SeedDiff</th>\n",
       "      <th>WinRatioDiff</th>\n",
       "      <th>GapAvgDiff</th>\n",
       "    </tr>\n",
       "  </thead>\n",
       "  <tbody>\n",
       "    <tr>\n",
       "      <th>0</th>\n",
       "      <td>2022_1103_1104</td>\n",
       "      <td>0.5</td>\n",
       "      <td>2022</td>\n",
       "      <td>1103</td>\n",
       "      <td>1104</td>\n",
       "      <td>13</td>\n",
       "      <td>6</td>\n",
       "      <td>0.709677</td>\n",
       "      <td>5.129032</td>\n",
       "      <td>0.593750</td>\n",
       "      <td>3.562500</td>\n",
       "      <td>7</td>\n",
       "      <td>0.115927</td>\n",
       "      <td>1.566532</td>\n",
       "    </tr>\n",
       "    <tr>\n",
       "      <th>1</th>\n",
       "      <td>2022_1103_1112</td>\n",
       "      <td>0.5</td>\n",
       "      <td>2022</td>\n",
       "      <td>1103</td>\n",
       "      <td>1112</td>\n",
       "      <td>13</td>\n",
       "      <td>1</td>\n",
       "      <td>0.709677</td>\n",
       "      <td>5.129032</td>\n",
       "      <td>0.911765</td>\n",
       "      <td>17.029412</td>\n",
       "      <td>12</td>\n",
       "      <td>-0.202087</td>\n",
       "      <td>-11.900380</td>\n",
       "    </tr>\n",
       "    <tr>\n",
       "      <th>2</th>\n",
       "      <td>2022_1103_1116</td>\n",
       "      <td>0.5</td>\n",
       "      <td>2022</td>\n",
       "      <td>1103</td>\n",
       "      <td>1116</td>\n",
       "      <td>13</td>\n",
       "      <td>4</td>\n",
       "      <td>0.709677</td>\n",
       "      <td>5.129032</td>\n",
       "      <td>0.757576</td>\n",
       "      <td>8.393939</td>\n",
       "      <td>9</td>\n",
       "      <td>-0.047898</td>\n",
       "      <td>-3.264907</td>\n",
       "    </tr>\n",
       "    <tr>\n",
       "      <th>3</th>\n",
       "      <td>2022_1103_1120</td>\n",
       "      <td>0.5</td>\n",
       "      <td>2022</td>\n",
       "      <td>1103</td>\n",
       "      <td>1120</td>\n",
       "      <td>13</td>\n",
       "      <td>2</td>\n",
       "      <td>0.709677</td>\n",
       "      <td>5.129032</td>\n",
       "      <td>0.843750</td>\n",
       "      <td>11.687500</td>\n",
       "      <td>11</td>\n",
       "      <td>-0.134073</td>\n",
       "      <td>-6.558468</td>\n",
       "    </tr>\n",
       "    <tr>\n",
       "      <th>4</th>\n",
       "      <td>2022_1103_1124</td>\n",
       "      <td>0.5</td>\n",
       "      <td>2022</td>\n",
       "      <td>1103</td>\n",
       "      <td>1124</td>\n",
       "      <td>13</td>\n",
       "      <td>1</td>\n",
       "      <td>0.709677</td>\n",
       "      <td>5.129032</td>\n",
       "      <td>0.812500</td>\n",
       "      <td>12.875000</td>\n",
       "      <td>12</td>\n",
       "      <td>-0.102823</td>\n",
       "      <td>-7.745968</td>\n",
       "    </tr>\n",
       "  </tbody>\n",
       "</table>\n",
       "</div>"
      ],
      "text/plain": [
       "               ID  Pred  Season  TeamIdA  TeamIdB  SeedA  SeedB  WinRatioA  \\\n",
       "0  2022_1103_1104   0.5    2022     1103     1104     13      6   0.709677   \n",
       "1  2022_1103_1112   0.5    2022     1103     1112     13      1   0.709677   \n",
       "2  2022_1103_1116   0.5    2022     1103     1116     13      4   0.709677   \n",
       "3  2022_1103_1120   0.5    2022     1103     1120     13      2   0.709677   \n",
       "4  2022_1103_1124   0.5    2022     1103     1124     13      1   0.709677   \n",
       "\n",
       "    GapAvgA  WinRatioB    GapAvgB  SeedDiff  WinRatioDiff  GapAvgDiff  \n",
       "0  5.129032   0.593750   3.562500         7      0.115927    1.566532  \n",
       "1  5.129032   0.911765  17.029412        12     -0.202087  -11.900380  \n",
       "2  5.129032   0.757576   8.393939         9     -0.047898   -3.264907  \n",
       "3  5.129032   0.843750  11.687500        11     -0.134073   -6.558468  \n",
       "4  5.129032   0.812500  12.875000        12     -0.102823   -7.745968  "
      ]
     },
     "execution_count": 56,
     "metadata": {},
     "output_type": "execute_result"
    }
   ],
   "source": [
    "df_test.head()"
   ]
  },
  {
   "cell_type": "markdown",
   "metadata": {
    "papermill": {
     "duration": 0.060991,
     "end_time": "2021-02-26T14:15:37.965967",
     "exception": false,
     "start_time": "2021-02-26T14:15:37.904976",
     "status": "completed"
    },
    "tags": []
   },
   "source": [
    "## Target"
   ]
  },
  {
   "cell_type": "code",
   "execution_count": 57,
   "metadata": {
    "execution": {
     "iopub.execute_input": "2021-02-26T14:15:38.095328Z",
     "iopub.status.busy": "2021-02-26T14:15:38.094358Z",
     "iopub.status.idle": "2021-02-26T14:15:38.100877Z",
     "shell.execute_reply": "2021-02-26T14:15:38.101732Z"
    },
    "papermill": {
     "duration": 0.071769,
     "end_time": "2021-02-26T14:15:38.101989",
     "exception": false,
     "start_time": "2021-02-26T14:15:38.030220",
     "status": "completed"
    },
    "tags": []
   },
   "outputs": [],
   "source": [
    "df['ScoreDiff'] = df['ScoreA'] - df['ScoreB']\n",
    "df['WinA'] = (df['ScoreDiff'] > 0).astype(int)"
   ]
  },
  {
   "cell_type": "markdown",
   "metadata": {
    "papermill": {
     "duration": 0.065635,
     "end_time": "2021-02-26T14:15:38.239227",
     "exception": false,
     "start_time": "2021-02-26T14:15:38.173592",
     "status": "completed"
    },
    "tags": []
   },
   "source": [
    "# Modeling"
   ]
  },
  {
   "cell_type": "code",
   "execution_count": 58,
   "metadata": {
    "execution": {
     "iopub.execute_input": "2021-02-26T14:15:38.375577Z",
     "iopub.status.busy": "2021-02-26T14:15:38.374468Z",
     "iopub.status.idle": "2021-02-26T14:15:38.379468Z",
     "shell.execute_reply": "2021-02-26T14:15:38.380011Z"
    },
    "papermill": {
     "duration": 0.077459,
     "end_time": "2021-02-26T14:15:38.380204",
     "exception": false,
     "start_time": "2021-02-26T14:15:38.302745",
     "status": "completed"
    },
    "tags": []
   },
   "outputs": [],
   "source": [
    "features = [\n",
    "    'SeedA',\n",
    "    'SeedB',\n",
    "    'WinRatioA',\n",
    "    'GapAvgA',\n",
    "    'WinRatioB',\n",
    "    'GapAvgB',\n",
    "#     'OrdinalRankA',\n",
    "#     'OrdinalRankB',\n",
    "    'SeedDiff',\n",
    "    'WinRatioDiff',\n",
    "    'GapAvgDiff'\n",
    "#     'OrdinalRankDiff',\n",
    "]"
   ]
  },
  {
   "cell_type": "code",
   "execution_count": 59,
   "metadata": {
    "execution": {
     "iopub.execute_input": "2021-02-26T14:15:38.513705Z",
     "iopub.status.busy": "2021-02-26T14:15:38.512618Z",
     "iopub.status.idle": "2021-02-26T14:15:38.520061Z",
     "shell.execute_reply": "2021-02-26T14:15:38.520646Z"
    },
    "papermill": {
     "duration": 0.07655,
     "end_time": "2021-02-26T14:15:38.520865",
     "exception": false,
     "start_time": "2021-02-26T14:15:38.444315",
     "status": "completed"
    },
    "tags": []
   },
   "outputs": [],
   "source": [
    "def rescale(features, df_train, df_val, df_test=None):\n",
    "    min_ = df_train[features].min()\n",
    "    max_ = df_train[features].max()\n",
    "    \n",
    "    df_train[features] = (df_train[features] - min_) / (max_ - min_)\n",
    "    df_val[features] = (df_val[features] - min_) / (max_ - min_)\n",
    "    \n",
    "    if df_test is not None:\n",
    "        df_test[features] = (df_test[features] - min_) / (max_ - min_)\n",
    "        \n",
    "    return df_train, df_val, df_test"
   ]
  },
  {
   "cell_type": "markdown",
   "metadata": {
    "papermill": {
     "duration": 0.067964,
     "end_time": "2021-02-26T14:15:38.653156",
     "exception": false,
     "start_time": "2021-02-26T14:15:38.585192",
     "status": "completed"
    },
    "tags": []
   },
   "source": [
    "### Cross Validation\n",
    "- Validate on season `n`, for `n` in the 10 last seasons.\n",
    "- Train on earlier seasons \n",
    "- Pipeline support classification (predict the team that wins) and regression (predict the score gap)"
   ]
  },
  {
   "cell_type": "code",
   "execution_count": 60,
   "metadata": {
    "execution": {
     "iopub.execute_input": "2021-02-26T14:15:38.788452Z",
     "iopub.status.busy": "2021-02-26T14:15:38.787364Z",
     "iopub.status.idle": "2021-02-26T14:15:38.804002Z",
     "shell.execute_reply": "2021-02-26T14:15:38.804574Z"
    },
    "papermill": {
     "duration": 0.086082,
     "end_time": "2021-02-26T14:15:38.804791",
     "exception": false,
     "start_time": "2021-02-26T14:15:38.718709",
     "status": "completed"
    },
    "tags": []
   },
   "outputs": [],
   "source": [
    "def kfold_reg(df, df_test_=None, plot=False, verbose=0, mode=\"reg\"):\n",
    "    seasons = df['Season'].unique()\n",
    "    cvs = []\n",
    "    pred_tests = []\n",
    "    target = \"ScoreDiff\" if mode == \"reg\" else \"WinA\"\n",
    "    \n",
    "    for season in seasons[10:]:\n",
    "        if verbose:\n",
    "            print(f'\\nValidating on season {season}')\n",
    "        \n",
    "        df_train = df[df['Season'] < season].reset_index(drop=True).copy()\n",
    "        df_val = df[df['Season'] == season].reset_index(drop=True).copy()\n",
    "        df_test = df_test_.copy()\n",
    "        \n",
    "        df_train, df_val, df_test = rescale(features, df_train, df_val, df_test)\n",
    "        \n",
    "        if mode == \"reg\":\n",
    "            model = ElasticNet(alpha=1, l1_ratio=0.5)\n",
    "        else:\n",
    "            model = LogisticRegression(C=10)\n",
    "            \n",
    "        model.fit(df_train[features], df_train[target])\n",
    "        \n",
    "        if mode == \"reg\":\n",
    "            pred = model.predict(df_val[features])\n",
    "            pred = (pred - pred.min()) / (pred.max() - pred.min())\n",
    "        else:\n",
    "            pred = model.predict_proba(df_val[features])[:, 1]\n",
    "        \n",
    "        if df_test is not None:\n",
    "            if mode == \"reg\":\n",
    "                pred_test = model.predict(df_test[features])\n",
    "                pred_test = (pred_test - pred_test.min()) / (pred_test.max() - pred_test.min())\n",
    "            else:\n",
    "                pred_test = model.predict_proba(df_test[features])[:, 1]\n",
    "                \n",
    "            pred_tests.append(pred_test)\n",
    "            \n",
    "        if plot:\n",
    "            plt.figure(figsize=(15, 6))\n",
    "            plt.subplot(1, 2, 1)\n",
    "            plt.scatter(pred, df_val['ScoreDiff'].values, s=5)\n",
    "            plt.grid(True)\n",
    "            plt.subplot(1, 2, 2)\n",
    "            sns.histplot(pred)\n",
    "            plt.show()\n",
    "        \n",
    "        loss = log_loss(df_val['WinA'].values, pred)\n",
    "        cvs.append(loss)\n",
    "\n",
    "        if verbose:\n",
    "            print(f'\\t -> Scored {loss:.3f}')\n",
    "        \n",
    "    print(f'\\n Local CV is {np.mean(cvs):.3f}')\n",
    "    \n",
    "    return pred_tests"
   ]
  },
  {
   "cell_type": "code",
   "execution_count": 61,
   "metadata": {
    "execution": {
     "iopub.execute_input": "2021-02-26T14:15:38.937438Z",
     "iopub.status.busy": "2021-02-26T14:15:38.936384Z",
     "iopub.status.idle": "2021-02-26T14:15:39.306950Z",
     "shell.execute_reply": "2021-02-26T14:15:39.307518Z"
    },
    "papermill": {
     "duration": 0.438796,
     "end_time": "2021-02-26T14:15:39.307721",
     "exception": false,
     "start_time": "2021-02-26T14:15:38.868925",
     "status": "completed"
    },
    "tags": []
   },
   "outputs": [
    {
     "name": "stdout",
     "output_type": "stream",
     "text": [
      "\n",
      "Validating on season 2013\n",
      "\t -> Scored 0.616\n",
      "\n",
      "Validating on season 2014\n",
      "\t -> Scored 0.613\n",
      "\n",
      "Validating on season 2015\n",
      "\t -> Scored 0.503\n",
      "\n",
      "Validating on season 2016\n",
      "\t -> Scored 0.570\n",
      "\n",
      "Validating on season 2017\n",
      "\t -> Scored 0.529\n",
      "\n",
      "Validating on season 2018\n",
      "\t -> Scored 0.623\n",
      "\n",
      "Validating on season 2019\n",
      "\t -> Scored 0.508\n",
      "\n",
      "Validating on season 2021\n",
      "\t -> Scored 0.631\n",
      "\n",
      " Local CV is 0.574\n"
     ]
    }
   ],
   "source": [
    "pred_tests = kfold_reg(df, df_test, plot=False, verbose=1, mode=\"cls\")"
   ]
  },
  {
   "cell_type": "markdown",
   "metadata": {
    "papermill": {
     "duration": 0.063221,
     "end_time": "2021-02-26T14:15:39.436971",
     "exception": false,
     "start_time": "2021-02-26T14:15:39.373750",
     "status": "completed"
    },
    "tags": []
   },
   "source": [
    "### Submission\n",
    "- Note that this pipeline is leaky during the first stage of the competition : the LB will be underestimated since the last 4 models were trained "
   ]
  },
  {
   "cell_type": "code",
   "execution_count": 62,
   "metadata": {
    "execution": {
     "iopub.execute_input": "2021-02-26T14:15:39.577499Z",
     "iopub.status.busy": "2021-02-26T14:15:39.576694Z",
     "iopub.status.idle": "2021-02-26T14:15:39.579906Z",
     "shell.execute_reply": "2021-02-26T14:15:39.580501Z"
    },
    "papermill": {
     "duration": 0.076902,
     "end_time": "2021-02-26T14:15:39.580706",
     "exception": false,
     "start_time": "2021-02-26T14:15:39.503804",
     "status": "completed"
    },
    "tags": []
   },
   "outputs": [],
   "source": [
    "pred_test = np.mean(pred_tests, 0)"
   ]
  },
  {
   "cell_type": "code",
   "execution_count": 63,
   "metadata": {
    "execution": {
     "iopub.execute_input": "2021-02-26T14:15:39.718259Z",
     "iopub.status.busy": "2021-02-26T14:15:39.717113Z",
     "iopub.status.idle": "2021-02-26T14:15:39.768722Z",
     "shell.execute_reply": "2021-02-26T14:15:39.769270Z"
    },
    "papermill": {
     "duration": 0.122543,
     "end_time": "2021-02-26T14:15:39.769493",
     "exception": false,
     "start_time": "2021-02-26T14:15:39.646950",
     "status": "completed"
    },
    "tags": []
   },
   "outputs": [],
   "source": [
    "sub = df_test[['ID', 'Pred']].copy()\n",
    "sub['Pred'] = pred_test\n",
    "sub.to_csv('submission.csv', index=False)"
   ]
  },
  {
   "cell_type": "code",
   "execution_count": 64,
   "metadata": {
    "execution": {
     "iopub.execute_input": "2021-02-26T14:15:39.934546Z",
     "iopub.status.busy": "2021-02-26T14:15:39.925232Z",
     "iopub.status.idle": "2021-02-26T14:15:40.150614Z",
     "shell.execute_reply": "2021-02-26T14:15:40.149904Z"
    },
    "papermill": {
     "duration": 0.316485,
     "end_time": "2021-02-26T14:15:40.150779",
     "exception": false,
     "start_time": "2021-02-26T14:15:39.834294",
     "status": "completed"
    },
    "tags": []
   },
   "outputs": [
    {
     "data": {
      "image/png": "[encoded data removed]",
      "text/plain": [
       "<Figure size 432x288 with 1 Axes>"
      ]
     },
     "metadata": {
      "needs_background": "light"
     },
     "output_type": "display_data"
    }
   ],
   "source": [
    "_ = sns.histplot(sub['Pred'])"
   ]
  },
  {
   "cell_type": "code",
   "execution_count": 65,
   "metadata": {
    "execution": {
     "iopub.execute_input": "2021-02-26T14:15:40.290850Z",
     "iopub.status.busy": "2021-02-26T14:15:40.289841Z",
     "iopub.status.idle": "2021-02-26T14:15:40.295201Z",
     "shell.execute_reply": "2021-02-26T14:15:40.294452Z"
    },
    "papermill": {
     "duration": 0.080281,
     "end_time": "2021-02-26T14:15:40.295376",
     "exception": false,
     "start_time": "2021-02-26T14:15:40.215095",
     "status": "completed"
    },
    "tags": []
   },
   "outputs": [
    {
     "data": {
      "text/html": [
       "<div>\n",
       "<style scoped>\n",
       "    .dataframe tbody tr th:only-of-type {\n",
       "        vertical-align: middle;\n",
       "    }\n",
       "\n",
       "    .dataframe tbody tr th {\n",
       "        vertical-align: top;\n",
       "    }\n",
       "\n",
       "    .dataframe thead th {\n",
       "        text-align: right;\n",
       "    }\n",
       "</style>\n",
       "<table border=\"1\" class=\"dataframe\">\n",
       "  <thead>\n",
       "    <tr style=\"text-align: right;\">\n",
       "      <th></th>\n",
       "      <th>ID</th>\n",
       "      <th>Pred</th>\n",
       "    </tr>\n",
       "  </thead>\n",
       "  <tbody>\n",
       "    <tr>\n",
       "      <th>0</th>\n",
       "      <td>2022_1103_1104</td>\n",
       "      <td>0.288677</td>\n",
       "    </tr>\n",
       "    <tr>\n",
       "      <th>1</th>\n",
       "      <td>2022_1103_1112</td>\n",
       "      <td>0.072389</td>\n",
       "    </tr>\n",
       "    <tr>\n",
       "      <th>2</th>\n",
       "      <td>2022_1103_1116</td>\n",
       "      <td>0.189079</td>\n",
       "    </tr>\n",
       "    <tr>\n",
       "      <th>3</th>\n",
       "      <td>2022_1103_1120</td>\n",
       "      <td>0.124575</td>\n",
       "    </tr>\n",
       "    <tr>\n",
       "      <th>4</th>\n",
       "      <td>2022_1103_1124</td>\n",
       "      <td>0.095755</td>\n",
       "    </tr>\n",
       "  </tbody>\n",
       "</table>\n",
       "</div>"
      ],
      "text/plain": [
       "               ID      Pred\n",
       "0  2022_1103_1104  0.288677\n",
       "1  2022_1103_1112  0.072389\n",
       "2  2022_1103_1116  0.189079\n",
       "3  2022_1103_1120  0.124575\n",
       "4  2022_1103_1124  0.095755"
      ]
     },
     "execution_count": 65,
     "metadata": {},
     "output_type": "execute_result"
    }
   ],
   "source": [
    "sub.head()"
   ]
  },
  {
   "cell_type": "markdown",
   "metadata": {
    "papermill": {
     "duration": 0.066626,
     "end_time": "2021-02-26T14:15:40.428651",
     "exception": false,
     "start_time": "2021-02-26T14:15:40.362025",
     "status": "completed"
    },
    "tags": []
   },
   "source": [
    "Thanks for reading !"
   ]
  }
 ],
 "metadata": {
  "kernelspec": {
   "display_name": "Python 3 (ipykernel)",
   "language": "python",
   "name": "python3"
  },
  "language_info": {
   "codemirror_mode": {
    "name": "ipython",
    "version": 3
   },
   "file_extension": ".py",
   "mimetype": "text/x-python",
   "name": "python",
   "nbconvert_exporter": "python",
   "pygments_lexer": "ipython3",
   "version": "3.8.12"
  },
  "papermill": {
   "default_parameters": {},
   "duration": 20.571691,
   "end_time": "2021-02-26T14:15:41.205627",
   "environment_variables": {},
   "exception": null,
   "input_path": "__notebook__.ipynb",
   "output_path": "__notebook__.ipynb",
   "parameters": {},
   "start_time": "2021-02-26T14:15:20.633936",
   "version": "2.2.2"
  }
 },
 "nbformat": 4,
 "nbformat_minor": 4
}
